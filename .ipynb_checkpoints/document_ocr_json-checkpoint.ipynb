{
 "cells": [
  {
   "cell_type": "code",
   "execution_count": 1,
   "metadata": {},
   "outputs": [],
   "source": [
    "import easyocr\n",
    "from pathlib import Path\n",
    "import json\n",
    "from tqdm import tqdm\n",
    "import fitz\n",
    "from PIL import Image, ImageDraw, ImageFont\n",
    "import os"
   ]
  },
  {
   "cell_type": "code",
   "execution_count": 2,
   "metadata": {},
   "outputs": [],
   "source": [
    "def pdf_to_jpeg(pdf_path):\n",
    "    try:\n",
    "        doc = fitz.open(pdf_path)  # Open document\n",
    "    except Exception as e:\n",
    "        print(f\"Error opening PDF: {e}\")\n",
    "        return None  # Skip processing if there's an error opening the PDF\n",
    "\n",
    "    resolution_dpi = 300  # Higher DPI gives better quality\n",
    "    zoom = resolution_dpi / 72  # Default PDF resolution is 72 DPI\n",
    "    matrix = fitz.Matrix(zoom, zoom)  # Scaling matrix\n",
    "\n",
    "    # Extract base name and directory path\n",
    "    base_name = os.path.splitext(os.path.basename(pdf_path))[0]\n",
    "    directory_path = os.path.dirname(pdf_path)\n",
    "\n",
    "    output_images = []  # List to store paths of generated images\n",
    "\n",
    "    try:\n",
    "        for page_num in range(len(doc)):\n",
    "            page = doc[page_num]  # Get page\n",
    "            pix = page.get_pixmap(matrix=matrix)  # Render page to image\n",
    "            \n",
    "            # Output file path (page_1, page_2, etc. if multi-page)\n",
    "            output_file_path = os.path.join(directory_path, f\"{base_name}_page_{page_num + 1}.jpeg\")\n",
    "            \n",
    "            pix.save(output_file_path)  # Save image\n",
    "            output_images.append(output_file_path)  # Store file path\n",
    "            print(f\"Converted PDF Page {page_num + 1} to JPEG: {output_file_path}\")\n",
    "\n",
    "    except fitz.fitz.MuPDFError as e:\n",
    "        print(f\"MuPDF error while processing {pdf_path}: {e}\")\n",
    "        return None\n",
    "    except Exception as e:\n",
    "        print(f\"Unexpected error while converting PDF to JPEG: {e}\")\n",
    "        return None\n",
    "\n",
    "    return output_images  # Return list of generated image paths"
   ]
  },
  {
   "cell_type": "code",
   "execution_count": 3,
   "metadata": {},
   "outputs": [
    {
     "name": "stdout",
     "output_type": "stream",
     "text": [
      "Processing data/butterflymx-video-intercom-power-splicing-guide.pdf...\n",
      "Converted PDF Page 1 to JPEG: data/butterflymx-video-intercom-power-splicing-guide_page_1.jpeg\n",
      "Converted PDF Page 2 to JPEG: data/butterflymx-video-intercom-power-splicing-guide_page_2.jpeg\n",
      "All pages converted successfully for data/butterflymx-video-intercom-power-splicing-guide.pdf!\n",
      "Processing data/butterflymx-video-intercom-dc-maglock-wiring-guide.pdf...\n",
      "Converted PDF Page 1 to JPEG: data/butterflymx-video-intercom-dc-maglock-wiring-guide_page_1.jpeg\n",
      "All pages converted successfully for data/butterflymx-video-intercom-dc-maglock-wiring-guide.pdf!\n",
      "Processing data/butterflymx-cloud-controller-and-access-reader-installation-guide.pdf...\n",
      "Converted PDF Page 1 to JPEG: data/butterflymx-cloud-controller-and-access-reader-installation-guide_page_1.jpeg\n",
      "Converted PDF Page 2 to JPEG: data/butterflymx-cloud-controller-and-access-reader-installation-guide_page_2.jpeg\n",
      "Converted PDF Page 3 to JPEG: data/butterflymx-cloud-controller-and-access-reader-installation-guide_page_3.jpeg\n",
      "Converted PDF Page 4 to JPEG: data/butterflymx-cloud-controller-and-access-reader-installation-guide_page_4.jpeg\n",
      "Converted PDF Page 5 to JPEG: data/butterflymx-cloud-controller-and-access-reader-installation-guide_page_5.jpeg\n",
      "Converted PDF Page 6 to JPEG: data/butterflymx-cloud-controller-and-access-reader-installation-guide_page_6.jpeg\n",
      "Converted PDF Page 7 to JPEG: data/butterflymx-cloud-controller-and-access-reader-installation-guide_page_7.jpeg\n",
      "Converted PDF Page 8 to JPEG: data/butterflymx-cloud-controller-and-access-reader-installation-guide_page_8.jpeg\n",
      "Converted PDF Page 9 to JPEG: data/butterflymx-cloud-controller-and-access-reader-installation-guide_page_9.jpeg\n",
      "Converted PDF Page 10 to JPEG: data/butterflymx-cloud-controller-and-access-reader-installation-guide_page_10.jpeg\n",
      "Converted PDF Page 11 to JPEG: data/butterflymx-cloud-controller-and-access-reader-installation-guide_page_11.jpeg\n",
      "Converted PDF Page 12 to JPEG: data/butterflymx-cloud-controller-and-access-reader-installation-guide_page_12.jpeg\n",
      "Converted PDF Page 13 to JPEG: data/butterflymx-cloud-controller-and-access-reader-installation-guide_page_13.jpeg\n",
      "Converted PDF Page 14 to JPEG: data/butterflymx-cloud-controller-and-access-reader-installation-guide_page_14.jpeg\n",
      "Converted PDF Page 15 to JPEG: data/butterflymx-cloud-controller-and-access-reader-installation-guide_page_15.jpeg\n",
      "Converted PDF Page 16 to JPEG: data/butterflymx-cloud-controller-and-access-reader-installation-guide_page_16.jpeg\n",
      "Converted PDF Page 17 to JPEG: data/butterflymx-cloud-controller-and-access-reader-installation-guide_page_17.jpeg\n",
      "Converted PDF Page 18 to JPEG: data/butterflymx-cloud-controller-and-access-reader-installation-guide_page_18.jpeg\n",
      "Converted PDF Page 19 to JPEG: data/butterflymx-cloud-controller-and-access-reader-installation-guide_page_19.jpeg\n",
      "Converted PDF Page 20 to JPEG: data/butterflymx-cloud-controller-and-access-reader-installation-guide_page_20.jpeg\n",
      "Converted PDF Page 21 to JPEG: data/butterflymx-cloud-controller-and-access-reader-installation-guide_page_21.jpeg\n",
      "Converted PDF Page 22 to JPEG: data/butterflymx-cloud-controller-and-access-reader-installation-guide_page_22.jpeg\n",
      "All pages converted successfully for data/butterflymx-cloud-controller-and-access-reader-installation-guide.pdf!\n",
      "Processing data/butterflymx-video-intercom-wiring-diagram.pdf...\n",
      "Converted PDF Page 1 to JPEG: data/butterflymx-video-intercom-wiring-diagram_page_1.jpeg\n",
      "Converted PDF Page 2 to JPEG: data/butterflymx-video-intercom-wiring-diagram_page_2.jpeg\n",
      "All pages converted successfully for data/butterflymx-video-intercom-wiring-diagram.pdf!\n",
      "Processing data/butterflymx-video-intercom-dc-door-strike-wiring-guide.pdf...\n",
      "Converted PDF Page 1 to JPEG: data/butterflymx-video-intercom-dc-door-strike-wiring-guide_page_1.jpeg\n",
      "All pages converted successfully for data/butterflymx-video-intercom-dc-door-strike-wiring-guide.pdf!\n",
      "Processing data/butterflymx-key-fobs-programming-guide.pdf...\n",
      "Converted PDF Page 1 to JPEG: data/butterflymx-key-fobs-programming-guide_page_1.jpeg\n",
      "All pages converted successfully for data/butterflymx-key-fobs-programming-guide.pdf!\n",
      "Processing data/butterflymx-recessed-video-intercom-quick-start-guide.pdf...\n",
      "Converted PDF Page 1 to JPEG: data/butterflymx-recessed-video-intercom-quick-start-guide_page_1.jpeg\n",
      "Converted PDF Page 2 to JPEG: data/butterflymx-recessed-video-intercom-quick-start-guide_page_2.jpeg\n",
      "Converted PDF Page 3 to JPEG: data/butterflymx-recessed-video-intercom-quick-start-guide_page_3.jpeg\n",
      "Converted PDF Page 4 to JPEG: data/butterflymx-recessed-video-intercom-quick-start-guide_page_4.jpeg\n",
      "Converted PDF Page 5 to JPEG: data/butterflymx-recessed-video-intercom-quick-start-guide_page_5.jpeg\n",
      "Converted PDF Page 6 to JPEG: data/butterflymx-recessed-video-intercom-quick-start-guide_page_6.jpeg\n",
      "Converted PDF Page 7 to JPEG: data/butterflymx-recessed-video-intercom-quick-start-guide_page_7.jpeg\n",
      "Converted PDF Page 8 to JPEG: data/butterflymx-recessed-video-intercom-quick-start-guide_page_8.jpeg\n",
      "Converted PDF Page 9 to JPEG: data/butterflymx-recessed-video-intercom-quick-start-guide_page_9.jpeg\n",
      "Converted PDF Page 10 to JPEG: data/butterflymx-recessed-video-intercom-quick-start-guide_page_10.jpeg\n",
      "Converted PDF Page 11 to JPEG: data/butterflymx-recessed-video-intercom-quick-start-guide_page_11.jpeg\n",
      "Converted PDF Page 12 to JPEG: data/butterflymx-recessed-video-intercom-quick-start-guide_page_12.jpeg\n",
      "Converted PDF Page 13 to JPEG: data/butterflymx-recessed-video-intercom-quick-start-guide_page_13.jpeg\n",
      "Converted PDF Page 14 to JPEG: data/butterflymx-recessed-video-intercom-quick-start-guide_page_14.jpeg\n",
      "Converted PDF Page 15 to JPEG: data/butterflymx-recessed-video-intercom-quick-start-guide_page_15.jpeg\n",
      "Converted PDF Page 16 to JPEG: data/butterflymx-recessed-video-intercom-quick-start-guide_page_16.jpeg\n",
      "Converted PDF Page 17 to JPEG: data/butterflymx-recessed-video-intercom-quick-start-guide_page_17.jpeg\n",
      "Converted PDF Page 18 to JPEG: data/butterflymx-recessed-video-intercom-quick-start-guide_page_18.jpeg\n",
      "Converted PDF Page 19 to JPEG: data/butterflymx-recessed-video-intercom-quick-start-guide_page_19.jpeg\n",
      "Converted PDF Page 20 to JPEG: data/butterflymx-recessed-video-intercom-quick-start-guide_page_20.jpeg\n",
      "Converted PDF Page 21 to JPEG: data/butterflymx-recessed-video-intercom-quick-start-guide_page_21.jpeg\n",
      "Converted PDF Page 22 to JPEG: data/butterflymx-recessed-video-intercom-quick-start-guide_page_22.jpeg\n",
      "Converted PDF Page 23 to JPEG: data/butterflymx-recessed-video-intercom-quick-start-guide_page_23.jpeg\n",
      "Converted PDF Page 24 to JPEG: data/butterflymx-recessed-video-intercom-quick-start-guide_page_24.jpeg\n",
      "Converted PDF Page 25 to JPEG: data/butterflymx-recessed-video-intercom-quick-start-guide_page_25.jpeg\n",
      "Converted PDF Page 26 to JPEG: data/butterflymx-recessed-video-intercom-quick-start-guide_page_26.jpeg\n",
      "Converted PDF Page 27 to JPEG: data/butterflymx-recessed-video-intercom-quick-start-guide_page_27.jpeg\n",
      "Converted PDF Page 28 to JPEG: data/butterflymx-recessed-video-intercom-quick-start-guide_page_28.jpeg\n",
      "Converted PDF Page 29 to JPEG: data/butterflymx-recessed-video-intercom-quick-start-guide_page_29.jpeg\n",
      "Converted PDF Page 30 to JPEG: data/butterflymx-recessed-video-intercom-quick-start-guide_page_30.jpeg\n",
      "Converted PDF Page 31 to JPEG: data/butterflymx-recessed-video-intercom-quick-start-guide_page_31.jpeg\n",
      "Converted PDF Page 32 to JPEG: data/butterflymx-recessed-video-intercom-quick-start-guide_page_32.jpeg\n",
      "Converted PDF Page 33 to JPEG: data/butterflymx-recessed-video-intercom-quick-start-guide_page_33.jpeg\n",
      "Converted PDF Page 34 to JPEG: data/butterflymx-recessed-video-intercom-quick-start-guide_page_34.jpeg\n",
      "Converted PDF Page 35 to JPEG: data/butterflymx-recessed-video-intercom-quick-start-guide_page_35.jpeg\n",
      "Converted PDF Page 36 to JPEG: data/butterflymx-recessed-video-intercom-quick-start-guide_page_36.jpeg\n",
      "All pages converted successfully for data/butterflymx-recessed-video-intercom-quick-start-guide.pdf!\n",
      "Processing data/ButterflyMX - Elevator Control Wiring Diagram.pdf...\n",
      "Converted PDF Page 1 to JPEG: data/ButterflyMX - Elevator Control Wiring Diagram_page_1.jpeg\n",
      "All pages converted successfully for data/ButterflyMX - Elevator Control Wiring Diagram.pdf!\n",
      "Processing data/butterflymx-vehicle-reader-cutsheet.pdf...\n",
      "Converted PDF Page 1 to JPEG: data/butterflymx-vehicle-reader-cutsheet_page_1.jpeg\n",
      "Converted PDF Page 2 to JPEG: data/butterflymx-vehicle-reader-cutsheet_page_2.jpeg\n",
      "All pages converted successfully for data/butterflymx-vehicle-reader-cutsheet.pdf!\n",
      "Processing data/butterflymx-security-camera-installation-guide.pdf...\n",
      "Converted PDF Page 1 to JPEG: data/butterflymx-security-camera-installation-guide_page_1.jpeg\n",
      "Converted PDF Page 2 to JPEG: data/butterflymx-security-camera-installation-guide_page_2.jpeg\n",
      "Converted PDF Page 3 to JPEG: data/butterflymx-security-camera-installation-guide_page_3.jpeg\n",
      "Converted PDF Page 4 to JPEG: data/butterflymx-security-camera-installation-guide_page_4.jpeg\n",
      "Converted PDF Page 5 to JPEG: data/butterflymx-security-camera-installation-guide_page_5.jpeg\n",
      "Converted PDF Page 6 to JPEG: data/butterflymx-security-camera-installation-guide_page_6.jpeg\n",
      "Converted PDF Page 7 to JPEG: data/butterflymx-security-camera-installation-guide_page_7.jpeg\n",
      "Converted PDF Page 8 to JPEG: data/butterflymx-security-camera-installation-guide_page_8.jpeg\n",
      "Converted PDF Page 9 to JPEG: data/butterflymx-security-camera-installation-guide_page_9.jpeg\n",
      "Converted PDF Page 10 to JPEG: data/butterflymx-security-camera-installation-guide_page_10.jpeg\n",
      "Converted PDF Page 11 to JPEG: data/butterflymx-security-camera-installation-guide_page_11.jpeg\n",
      "Converted PDF Page 12 to JPEG: data/butterflymx-security-camera-installation-guide_page_12.jpeg\n",
      "Converted PDF Page 13 to JPEG: data/butterflymx-security-camera-installation-guide_page_13.jpeg\n",
      "Converted PDF Page 14 to JPEG: data/butterflymx-security-camera-installation-guide_page_14.jpeg\n",
      "Converted PDF Page 15 to JPEG: data/butterflymx-security-camera-installation-guide_page_15.jpeg\n",
      "Converted PDF Page 16 to JPEG: data/butterflymx-security-camera-installation-guide_page_16.jpeg\n",
      "Converted PDF Page 17 to JPEG: data/butterflymx-security-camera-installation-guide_page_17.jpeg\n",
      "Converted PDF Page 18 to JPEG: data/butterflymx-security-camera-installation-guide_page_18.jpeg\n",
      "All pages converted successfully for data/butterflymx-security-camera-installation-guide.pdf!\n",
      "Processing data/ButterflyMX - Elevator control setup options.pdf...\n",
      "Converted PDF Page 1 to JPEG: data/ButterflyMX - Elevator control setup options_page_1.jpeg\n",
      "Converted PDF Page 2 to JPEG: data/ButterflyMX - Elevator control setup options_page_2.jpeg\n",
      "Converted PDF Page 3 to JPEG: data/ButterflyMX - Elevator control setup options_page_3.jpeg\n",
      "Converted PDF Page 4 to JPEG: data/ButterflyMX - Elevator control setup options_page_4.jpeg\n",
      "Converted PDF Page 5 to JPEG: data/ButterflyMX - Elevator control setup options_page_5.jpeg\n",
      "Converted PDF Page 6 to JPEG: data/ButterflyMX - Elevator control setup options_page_6.jpeg\n",
      "Converted PDF Page 7 to JPEG: data/ButterflyMX - Elevator control setup options_page_7.jpeg\n",
      "All pages converted successfully for data/ButterflyMX - Elevator control setup options.pdf!\n",
      "Processing data/butterflymx-access-controller-door-state-sensors-guide.pdf...\n",
      "Converted PDF Page 1 to JPEG: data/butterflymx-access-controller-door-state-sensors-guide_page_1.jpeg\n",
      "Converted PDF Page 2 to JPEG: data/butterflymx-access-controller-door-state-sensors-guide_page_2.jpeg\n",
      "Converted PDF Page 3 to JPEG: data/butterflymx-access-controller-door-state-sensors-guide_page_3.jpeg\n",
      "Converted PDF Page 4 to JPEG: data/butterflymx-access-controller-door-state-sensors-guide_page_4.jpeg\n",
      "Converted PDF Page 5 to JPEG: data/butterflymx-access-controller-door-state-sensors-guide_page_5.jpeg\n",
      "All pages converted successfully for data/butterflymx-access-controller-door-state-sensors-guide.pdf!\n",
      "Processing data/butterflymx-video-intercom-ac-door-strike-wiring-guide.pdf...\n",
      "Converted PDF Page 1 to JPEG: data/butterflymx-video-intercom-ac-door-strike-wiring-guide_page_1.jpeg\n",
      "All pages converted successfully for data/butterflymx-video-intercom-ac-door-strike-wiring-guide.pdf!\n",
      "Processing data/butterflymx-vehicle-tags-installation-guide.pdf...\n",
      "Converted PDF Page 1 to JPEG: data/butterflymx-vehicle-tags-installation-guide_page_1.jpeg\n",
      "Converted PDF Page 2 to JPEG: data/butterflymx-vehicle-tags-installation-guide_page_2.jpeg\n",
      "Converted PDF Page 3 to JPEG: data/butterflymx-vehicle-tags-installation-guide_page_3.jpeg\n",
      "All pages converted successfully for data/butterflymx-vehicle-tags-installation-guide.pdf!\n",
      "Processing data/butterflymx-vehicle-tags-programming-guide.pdf...\n",
      "Converted PDF Page 1 to JPEG: data/butterflymx-vehicle-tags-programming-guide_page_1.jpeg\n",
      "All pages converted successfully for data/butterflymx-vehicle-tags-programming-guide.pdf!\n",
      "Processing data/ButterflyMX - Elevator Control Installation Guide.pdf...\n",
      "Converted PDF Page 1 to JPEG: data/ButterflyMX - Elevator Control Installation Guide_page_1.jpeg\n",
      "Converted PDF Page 2 to JPEG: data/ButterflyMX - Elevator Control Installation Guide_page_2.jpeg\n",
      "Converted PDF Page 3 to JPEG: data/ButterflyMX - Elevator Control Installation Guide_page_3.jpeg\n",
      "Converted PDF Page 4 to JPEG: data/ButterflyMX - Elevator Control Installation Guide_page_4.jpeg\n",
      "Converted PDF Page 5 to JPEG: data/ButterflyMX - Elevator Control Installation Guide_page_5.jpeg\n",
      "Converted PDF Page 6 to JPEG: data/ButterflyMX - Elevator Control Installation Guide_page_6.jpeg\n",
      "Converted PDF Page 7 to JPEG: data/ButterflyMX - Elevator Control Installation Guide_page_7.jpeg\n",
      "Converted PDF Page 8 to JPEG: data/ButterflyMX - Elevator Control Installation Guide_page_8.jpeg\n",
      "Converted PDF Page 9 to JPEG: data/ButterflyMX - Elevator Control Installation Guide_page_9.jpeg\n",
      "Converted PDF Page 10 to JPEG: data/ButterflyMX - Elevator Control Installation Guide_page_10.jpeg\n",
      "Converted PDF Page 11 to JPEG: data/ButterflyMX - Elevator Control Installation Guide_page_11.jpeg\n",
      "All pages converted successfully for data/ButterflyMX - Elevator Control Installation Guide.pdf!\n",
      "Processing data/butterflymx-8inch-12inch-video-intercom-system-installation-guide.pdf...\n",
      "Converted PDF Page 1 to JPEG: data/butterflymx-8inch-12inch-video-intercom-system-installation-guide_page_1.jpeg\n",
      "Converted PDF Page 2 to JPEG: data/butterflymx-8inch-12inch-video-intercom-system-installation-guide_page_2.jpeg\n",
      "Converted PDF Page 3 to JPEG: data/butterflymx-8inch-12inch-video-intercom-system-installation-guide_page_3.jpeg\n",
      "Converted PDF Page 4 to JPEG: data/butterflymx-8inch-12inch-video-intercom-system-installation-guide_page_4.jpeg\n",
      "Converted PDF Page 5 to JPEG: data/butterflymx-8inch-12inch-video-intercom-system-installation-guide_page_5.jpeg\n",
      "Converted PDF Page 6 to JPEG: data/butterflymx-8inch-12inch-video-intercom-system-installation-guide_page_6.jpeg\n",
      "Converted PDF Page 7 to JPEG: data/butterflymx-8inch-12inch-video-intercom-system-installation-guide_page_7.jpeg\n",
      "Converted PDF Page 8 to JPEG: data/butterflymx-8inch-12inch-video-intercom-system-installation-guide_page_8.jpeg\n",
      "Converted PDF Page 9 to JPEG: data/butterflymx-8inch-12inch-video-intercom-system-installation-guide_page_9.jpeg\n",
      "Converted PDF Page 10 to JPEG: data/butterflymx-8inch-12inch-video-intercom-system-installation-guide_page_10.jpeg\n",
      "Converted PDF Page 11 to JPEG: data/butterflymx-8inch-12inch-video-intercom-system-installation-guide_page_11.jpeg\n",
      "Converted PDF Page 12 to JPEG: data/butterflymx-8inch-12inch-video-intercom-system-installation-guide_page_12.jpeg\n",
      "Converted PDF Page 13 to JPEG: data/butterflymx-8inch-12inch-video-intercom-system-installation-guide_page_13.jpeg\n",
      "Converted PDF Page 14 to JPEG: data/butterflymx-8inch-12inch-video-intercom-system-installation-guide_page_14.jpeg\n",
      "Converted PDF Page 15 to JPEG: data/butterflymx-8inch-12inch-video-intercom-system-installation-guide_page_15.jpeg\n",
      "Converted PDF Page 16 to JPEG: data/butterflymx-8inch-12inch-video-intercom-system-installation-guide_page_16.jpeg\n",
      "Converted PDF Page 17 to JPEG: data/butterflymx-8inch-12inch-video-intercom-system-installation-guide_page_17.jpeg\n",
      "Converted PDF Page 18 to JPEG: data/butterflymx-8inch-12inch-video-intercom-system-installation-guide_page_18.jpeg\n",
      "Converted PDF Page 19 to JPEG: data/butterflymx-8inch-12inch-video-intercom-system-installation-guide_page_19.jpeg\n",
      "Converted PDF Page 20 to JPEG: data/butterflymx-8inch-12inch-video-intercom-system-installation-guide_page_20.jpeg\n",
      "Converted PDF Page 21 to JPEG: data/butterflymx-8inch-12inch-video-intercom-system-installation-guide_page_21.jpeg\n",
      "Converted PDF Page 22 to JPEG: data/butterflymx-8inch-12inch-video-intercom-system-installation-guide_page_22.jpeg\n",
      "Converted PDF Page 23 to JPEG: data/butterflymx-8inch-12inch-video-intercom-system-installation-guide_page_23.jpeg\n",
      "Converted PDF Page 24 to JPEG: data/butterflymx-8inch-12inch-video-intercom-system-installation-guide_page_24.jpeg\n",
      "Converted PDF Page 25 to JPEG: data/butterflymx-8inch-12inch-video-intercom-system-installation-guide_page_25.jpeg\n",
      "Converted PDF Page 26 to JPEG: data/butterflymx-8inch-12inch-video-intercom-system-installation-guide_page_26.jpeg\n",
      "Converted PDF Page 27 to JPEG: data/butterflymx-8inch-12inch-video-intercom-system-installation-guide_page_27.jpeg\n",
      "All pages converted successfully for data/butterflymx-8inch-12inch-video-intercom-system-installation-guide.pdf!\n",
      "Processing data/butterflymx-wiegand-OSDP-installation-guide.pdf...\n",
      "Converted PDF Page 1 to JPEG: data/butterflymx-wiegand-OSDP-installation-guide_page_1.jpeg\n",
      "Converted PDF Page 2 to JPEG: data/butterflymx-wiegand-OSDP-installation-guide_page_2.jpeg\n",
      "Converted PDF Page 3 to JPEG: data/butterflymx-wiegand-OSDP-installation-guide_page_3.jpeg\n",
      "Converted PDF Page 4 to JPEG: data/butterflymx-wiegand-OSDP-installation-guide_page_4.jpeg\n",
      "Converted PDF Page 5 to JPEG: data/butterflymx-wiegand-OSDP-installation-guide_page_5.jpeg\n",
      "All pages converted successfully for data/butterflymx-wiegand-OSDP-installation-guide.pdf!\n"
     ]
    }
   ],
   "source": [
    "# Define the directory containing the PDFs\n",
    "pdf_directory = \"data\"\n",
    "\n",
    "# Ensure the given path is a directory\n",
    "if os.path.isdir(pdf_directory):\n",
    "    # Iterate over each file in the directory\n",
    "    for filename in os.listdir(pdf_directory):\n",
    "        if filename.lower().endswith('.pdf'):\n",
    "            pdf_path = os.path.join(pdf_directory, filename)\n",
    "            print(f\"Processing {pdf_path}...\")\n",
    "            converted_images = pdf_to_jpeg(pdf_path)\n",
    "            if converted_images:\n",
    "                print(f\"All pages converted successfully for {pdf_path}!\")\n",
    "            else:\n",
    "                print(f\"Conversion failed for {pdf_path}.\")\n",
    "else:\n",
    "    print(f\"Directory '{pdf_directory}' does not exist.\")"
   ]
  },
  {
   "cell_type": "code",
   "execution_count": 4,
   "metadata": {},
   "outputs": [],
   "source": [
    "reader = easyocr.Reader(['en'], gpu=True)"
   ]
  },
  {
   "cell_type": "code",
   "execution_count": 5,
   "metadata": {},
   "outputs": [],
   "source": [
    "image_paths = sorted(list(Path(\"data\").glob(\"*.jpeg\")))"
   ]
  },
  {
   "cell_type": "code",
   "execution_count": 6,
   "metadata": {},
   "outputs": [],
   "source": [
    "def create_bounding_box(bbox_data):\n",
    "    xs = []\n",
    "    ys = []\n",
    "    for x, y in bbox_data:\n",
    "        xs.append(x)\n",
    "        ys.append(y)\n",
    " \n",
    "    left = int(min(xs))\n",
    "    top = int(min(ys))\n",
    "    right = int(max(xs))\n",
    "    bottom = int(max(ys))\n",
    " \n",
    "    return [left, top, right, bottom]"
   ]
  },
  {
   "cell_type": "code",
   "execution_count": 7,
   "metadata": {},
   "outputs": [
    {
     "name": "stderr",
     "output_type": "stream",
     "text": [
      "100%|█████████████████████████████████████████| 292/292 [17:43<00:00,  3.64s/it]\n"
     ]
    }
   ],
   "source": [
    "# Not to run everytime\n",
    "\n",
    "for image_path in tqdm(image_paths):\n",
    "    ocr_result = reader.readtext(str(image_path), batch_size=16)\n",
    " \n",
    "    ocr_page = []\n",
    "    for bbox, word, confidence in ocr_result:\n",
    "        ocr_page.append({\n",
    "            \"word\": word, \"bounding_box\": create_bounding_box(bbox)\n",
    "        })\n",
    " \n",
    "    with image_path.with_suffix(\".json\").open(\"w\") as f:\n",
    "        json.dump(ocr_page, f)"
   ]
  },
  {
   "cell_type": "code",
   "execution_count": 8,
   "metadata": {},
   "outputs": [
    {
     "name": "stderr",
     "output_type": "stream",
     "text": [
      "Processing Images:   1%|▏                       | 2/292 [00:00<00:38,  7.46it/s]"
     ]
    },
    {
     "name": "stdout",
     "output_type": "stream",
     "text": [
      "OCR image saved as: data/ButterflyMX - Elevator Control Installation Guide_page_1_OCR.jpeg\n",
      "OCR image saved as: data/ButterflyMX - Elevator Control Installation Guide_page_10_OCR.jpeg\n"
     ]
    },
    {
     "name": "stderr",
     "output_type": "stream",
     "text": [
      "Processing Images:   1%|▏                       | 3/292 [00:00<00:38,  7.54it/s]"
     ]
    },
    {
     "name": "stdout",
     "output_type": "stream",
     "text": [
      "OCR image saved as: data/ButterflyMX - Elevator Control Installation Guide_page_10_OCR_OCR.jpeg\n",
      "OCR image saved as: data/ButterflyMX - Elevator Control Installation Guide_page_11_OCR.jpeg\n"
     ]
    },
    {
     "name": "stderr",
     "output_type": "stream",
     "text": [
      "Processing Images:   2%|▍                       | 6/292 [00:00<00:38,  7.47it/s]"
     ]
    },
    {
     "name": "stdout",
     "output_type": "stream",
     "text": [
      "OCR image saved as: data/ButterflyMX - Elevator Control Installation Guide_page_11_OCR_OCR.jpeg\n",
      "OCR image saved as: data/ButterflyMX - Elevator Control Installation Guide_page_1_OCR_OCR.jpeg\n"
     ]
    },
    {
     "name": "stderr",
     "output_type": "stream",
     "text": [
      "Processing Images:   3%|▋                       | 8/292 [00:01<00:33,  8.40it/s]"
     ]
    },
    {
     "name": "stdout",
     "output_type": "stream",
     "text": [
      "OCR image saved as: data/ButterflyMX - Elevator Control Installation Guide_page_2_OCR.jpeg\n",
      "OCR image saved as: data/ButterflyMX - Elevator Control Installation Guide_page_2_OCR_OCR.jpeg\n"
     ]
    },
    {
     "name": "stderr",
     "output_type": "stream",
     "text": [
      "Processing Images:   3%|▊                      | 10/292 [00:01<00:36,  7.76it/s]"
     ]
    },
    {
     "name": "stdout",
     "output_type": "stream",
     "text": [
      "OCR image saved as: data/ButterflyMX - Elevator Control Installation Guide_page_3_OCR.jpeg\n",
      "OCR image saved as: data/ButterflyMX - Elevator Control Installation Guide_page_3_OCR_OCR.jpeg\n"
     ]
    },
    {
     "name": "stderr",
     "output_type": "stream",
     "text": [
      "Processing Images:   4%|▉                      | 12/292 [00:01<00:32,  8.70it/s]"
     ]
    },
    {
     "name": "stdout",
     "output_type": "stream",
     "text": [
      "OCR image saved as: data/ButterflyMX - Elevator Control Installation Guide_page_4_OCR.jpeg\n",
      "OCR image saved as: data/ButterflyMX - Elevator Control Installation Guide_page_4_OCR_OCR.jpeg\n",
      "OCR image saved as: data/ButterflyMX - Elevator Control Installation Guide_page_5_OCR.jpeg\n"
     ]
    },
    {
     "name": "stderr",
     "output_type": "stream",
     "text": [
      "Processing Images:   5%|█                      | 14/292 [00:01<00:30,  9.06it/s]"
     ]
    },
    {
     "name": "stdout",
     "output_type": "stream",
     "text": [
      "OCR image saved as: data/ButterflyMX - Elevator Control Installation Guide_page_5_OCR_OCR.jpeg\n",
      "OCR image saved as: data/ButterflyMX - Elevator Control Installation Guide_page_6_OCR.jpeg\n",
      "OCR image saved as: data/ButterflyMX - Elevator Control Installation Guide_page_6_OCR_OCR.jpeg\n"
     ]
    },
    {
     "name": "stderr",
     "output_type": "stream",
     "text": [
      "Processing Images:   6%|█▍                     | 18/292 [00:02<00:31,  8.66it/s]"
     ]
    },
    {
     "name": "stdout",
     "output_type": "stream",
     "text": [
      "OCR image saved as: data/ButterflyMX - Elevator Control Installation Guide_page_7_OCR.jpeg\n",
      "OCR image saved as: data/ButterflyMX - Elevator Control Installation Guide_page_7_OCR_OCR.jpeg\n"
     ]
    },
    {
     "name": "stderr",
     "output_type": "stream",
     "text": [
      "Processing Images:   7%|█▌                     | 20/292 [00:02<00:31,  8.52it/s]"
     ]
    },
    {
     "name": "stdout",
     "output_type": "stream",
     "text": [
      "OCR image saved as: data/ButterflyMX - Elevator Control Installation Guide_page_8_OCR.jpeg\n",
      "OCR image saved as: data/ButterflyMX - Elevator Control Installation Guide_page_8_OCR_OCR.jpeg\n"
     ]
    },
    {
     "name": "stderr",
     "output_type": "stream",
     "text": [
      "Processing Images:   8%|█▋                     | 22/292 [00:02<00:29,  9.19it/s]"
     ]
    },
    {
     "name": "stdout",
     "output_type": "stream",
     "text": [
      "OCR image saved as: data/ButterflyMX - Elevator Control Installation Guide_page_9_OCR.jpeg\n",
      "OCR image saved as: data/ButterflyMX - Elevator Control Installation Guide_page_9_OCR_OCR.jpeg\n"
     ]
    },
    {
     "name": "stderr",
     "output_type": "stream",
     "text": [
      "Processing Images:   8%|█▉                     | 24/292 [00:02<00:29,  8.99it/s]"
     ]
    },
    {
     "name": "stdout",
     "output_type": "stream",
     "text": [
      "OCR image saved as: data/ButterflyMX - Elevator Control Wiring Diagram_page_1_OCR.jpeg\n",
      "OCR image saved as: data/ButterflyMX - Elevator Control Wiring Diagram_page_1_OCR_OCR.jpeg\n"
     ]
    },
    {
     "name": "stderr",
     "output_type": "stream",
     "text": [
      "Processing Images:   9%|██                     | 26/292 [00:03<00:31,  8.38it/s]"
     ]
    },
    {
     "name": "stdout",
     "output_type": "stream",
     "text": [
      "OCR image saved as: data/ButterflyMX - Elevator control setup options_page_1_OCR.jpeg\n",
      "OCR image saved as: data/ButterflyMX - Elevator control setup options_page_1_OCR_OCR.jpeg\n"
     ]
    },
    {
     "name": "stderr",
     "output_type": "stream",
     "text": [
      "Processing Images:  10%|██▏                    | 28/292 [00:03<00:31,  8.47it/s]"
     ]
    },
    {
     "name": "stdout",
     "output_type": "stream",
     "text": [
      "OCR image saved as: data/ButterflyMX - Elevator control setup options_page_2_OCR.jpeg\n",
      "OCR image saved as: data/ButterflyMX - Elevator control setup options_page_2_OCR_OCR.jpeg\n"
     ]
    },
    {
     "name": "stderr",
     "output_type": "stream",
     "text": [
      "Processing Images:  10%|██▎                    | 30/292 [00:03<00:30,  8.70it/s]"
     ]
    },
    {
     "name": "stdout",
     "output_type": "stream",
     "text": [
      "OCR image saved as: data/ButterflyMX - Elevator control setup options_page_3_OCR.jpeg\n",
      "OCR image saved as: data/ButterflyMX - Elevator control setup options_page_3_OCR_OCR.jpeg\n"
     ]
    },
    {
     "name": "stderr",
     "output_type": "stream",
     "text": [
      "Processing Images:  11%|██▌                    | 32/292 [00:03<00:31,  8.33it/s]"
     ]
    },
    {
     "name": "stdout",
     "output_type": "stream",
     "text": [
      "OCR image saved as: data/ButterflyMX - Elevator control setup options_page_4_OCR.jpeg\n",
      "OCR image saved as: data/ButterflyMX - Elevator control setup options_page_4_OCR_OCR.jpeg\n"
     ]
    },
    {
     "name": "stderr",
     "output_type": "stream",
     "text": [
      "Processing Images:  12%|██▋                    | 34/292 [00:03<00:30,  8.51it/s]"
     ]
    },
    {
     "name": "stdout",
     "output_type": "stream",
     "text": [
      "OCR image saved as: data/ButterflyMX - Elevator control setup options_page_5_OCR.jpeg\n",
      "OCR image saved as: data/ButterflyMX - Elevator control setup options_page_5_OCR_OCR.jpeg\n"
     ]
    },
    {
     "name": "stderr",
     "output_type": "stream",
     "text": [
      "Processing Images:  12%|██▊                    | 36/292 [00:04<00:29,  8.63it/s]"
     ]
    },
    {
     "name": "stdout",
     "output_type": "stream",
     "text": [
      "OCR image saved as: data/ButterflyMX - Elevator control setup options_page_6_OCR.jpeg\n",
      "OCR image saved as: data/ButterflyMX - Elevator control setup options_page_6_OCR_OCR.jpeg\n",
      "OCR image saved as: data/ButterflyMX - Elevator control setup options_page_7_OCR.jpeg\n"
     ]
    },
    {
     "name": "stderr",
     "output_type": "stream",
     "text": [
      "Processing Images:  14%|███▏                   | 40/292 [00:04<00:25, 10.05it/s]"
     ]
    },
    {
     "name": "stdout",
     "output_type": "stream",
     "text": [
      "OCR image saved as: data/ButterflyMX - Elevator control setup options_page_7_OCR_OCR.jpeg\n",
      "OCR image saved as: data/butterflymx-8inch-12inch-video-intercom-system-installation-guide_page_1_OCR.jpeg\n",
      "OCR image saved as: data/butterflymx-8inch-12inch-video-intercom-system-installation-guide_page_10_OCR.jpeg\n"
     ]
    },
    {
     "name": "stderr",
     "output_type": "stream",
     "text": [
      "Processing Images:  15%|███▍                   | 43/292 [00:04<00:25,  9.92it/s]"
     ]
    },
    {
     "name": "stdout",
     "output_type": "stream",
     "text": [
      "OCR image saved as: data/butterflymx-8inch-12inch-video-intercom-system-installation-guide_page_10_OCR_OCR.jpeg\n",
      "OCR image saved as: data/butterflymx-8inch-12inch-video-intercom-system-installation-guide_page_11_OCR.jpeg\n",
      "OCR image saved as: data/butterflymx-8inch-12inch-video-intercom-system-installation-guide_page_11_OCR_OCR.jpeg\n"
     ]
    },
    {
     "name": "stderr",
     "output_type": "stream",
     "text": [
      "Processing Images:  15%|███▌                   | 45/292 [00:05<00:24, 10.01it/s]"
     ]
    },
    {
     "name": "stdout",
     "output_type": "stream",
     "text": [
      "OCR image saved as: data/butterflymx-8inch-12inch-video-intercom-system-installation-guide_page_12_OCR.jpeg\n",
      "OCR image saved as: data/butterflymx-8inch-12inch-video-intercom-system-installation-guide_page_12_OCR_OCR.jpeg\n"
     ]
    },
    {
     "name": "stderr",
     "output_type": "stream",
     "text": [
      "Processing Images:  16%|███▋                   | 47/292 [00:05<00:25,  9.46it/s]"
     ]
    },
    {
     "name": "stdout",
     "output_type": "stream",
     "text": [
      "OCR image saved as: data/butterflymx-8inch-12inch-video-intercom-system-installation-guide_page_13_OCR.jpeg\n",
      "OCR image saved as: data/butterflymx-8inch-12inch-video-intercom-system-installation-guide_page_13_OCR_OCR.jpeg\n"
     ]
    },
    {
     "name": "stderr",
     "output_type": "stream",
     "text": [
      "Processing Images:  17%|███▊                   | 49/292 [00:05<00:28,  8.45it/s]"
     ]
    },
    {
     "name": "stdout",
     "output_type": "stream",
     "text": [
      "OCR image saved as: data/butterflymx-8inch-12inch-video-intercom-system-installation-guide_page_14_OCR.jpeg\n",
      "OCR image saved as: data/butterflymx-8inch-12inch-video-intercom-system-installation-guide_page_14_OCR_OCR.jpeg\n"
     ]
    },
    {
     "name": "stderr",
     "output_type": "stream",
     "text": [
      "Processing Images:  17%|████                   | 51/292 [00:05<00:27,  8.63it/s]"
     ]
    },
    {
     "name": "stdout",
     "output_type": "stream",
     "text": [
      "OCR image saved as: data/butterflymx-8inch-12inch-video-intercom-system-installation-guide_page_15_OCR.jpeg\n",
      "OCR image saved as: data/butterflymx-8inch-12inch-video-intercom-system-installation-guide_page_15_OCR_OCR.jpeg\n"
     ]
    },
    {
     "name": "stderr",
     "output_type": "stream",
     "text": [
      "Processing Images:  18%|████▏                  | 53/292 [00:05<00:26,  9.06it/s]"
     ]
    },
    {
     "name": "stdout",
     "output_type": "stream",
     "text": [
      "OCR image saved as: data/butterflymx-8inch-12inch-video-intercom-system-installation-guide_page_16_OCR.jpeg\n",
      "OCR image saved as: data/butterflymx-8inch-12inch-video-intercom-system-installation-guide_page_16_OCR_OCR.jpeg\n"
     ]
    },
    {
     "name": "stderr",
     "output_type": "stream",
     "text": [
      "Processing Images:  19%|████▎                  | 55/292 [00:06<00:25,  9.19it/s]"
     ]
    },
    {
     "name": "stdout",
     "output_type": "stream",
     "text": [
      "OCR image saved as: data/butterflymx-8inch-12inch-video-intercom-system-installation-guide_page_17_OCR.jpeg\n",
      "OCR image saved as: data/butterflymx-8inch-12inch-video-intercom-system-installation-guide_page_17_OCR_OCR.jpeg\n"
     ]
    },
    {
     "name": "stderr",
     "output_type": "stream",
     "text": [
      "Processing Images:  20%|████▍                  | 57/292 [00:06<00:27,  8.70it/s]"
     ]
    },
    {
     "name": "stdout",
     "output_type": "stream",
     "text": [
      "OCR image saved as: data/butterflymx-8inch-12inch-video-intercom-system-installation-guide_page_18_OCR.jpeg\n",
      "OCR image saved as: data/butterflymx-8inch-12inch-video-intercom-system-installation-guide_page_18_OCR_OCR.jpeg\n"
     ]
    },
    {
     "name": "stderr",
     "output_type": "stream",
     "text": [
      "Processing Images:  20%|████▋                  | 59/292 [00:06<00:25,  9.29it/s]"
     ]
    },
    {
     "name": "stdout",
     "output_type": "stream",
     "text": [
      "OCR image saved as: data/butterflymx-8inch-12inch-video-intercom-system-installation-guide_page_19_OCR.jpeg\n",
      "OCR image saved as: data/butterflymx-8inch-12inch-video-intercom-system-installation-guide_page_19_OCR_OCR.jpeg\n"
     ]
    },
    {
     "name": "stderr",
     "output_type": "stream",
     "text": [
      "Processing Images:  21%|████▉                  | 62/292 [00:06<00:22, 10.05it/s]"
     ]
    },
    {
     "name": "stdout",
     "output_type": "stream",
     "text": [
      "OCR image saved as: data/butterflymx-8inch-12inch-video-intercom-system-installation-guide_page_1_OCR_OCR.jpeg\n",
      "OCR image saved as: data/butterflymx-8inch-12inch-video-intercom-system-installation-guide_page_2_OCR.jpeg\n",
      "OCR image saved as: data/butterflymx-8inch-12inch-video-intercom-system-installation-guide_page_20_OCR.jpeg\n"
     ]
    },
    {
     "name": "stderr",
     "output_type": "stream",
     "text": [
      "Processing Images:  22%|█████                  | 64/292 [00:07<00:23,  9.56it/s]"
     ]
    },
    {
     "name": "stdout",
     "output_type": "stream",
     "text": [
      "OCR image saved as: data/butterflymx-8inch-12inch-video-intercom-system-installation-guide_page_20_OCR_OCR.jpeg\n",
      "OCR image saved as: data/butterflymx-8inch-12inch-video-intercom-system-installation-guide_page_21_OCR.jpeg\n"
     ]
    },
    {
     "name": "stderr",
     "output_type": "stream",
     "text": [
      "Processing Images:  23%|█████▎                 | 67/292 [00:07<00:23,  9.65it/s]"
     ]
    },
    {
     "name": "stdout",
     "output_type": "stream",
     "text": [
      "OCR image saved as: data/butterflymx-8inch-12inch-video-intercom-system-installation-guide_page_21_OCR_OCR.jpeg\n",
      "OCR image saved as: data/butterflymx-8inch-12inch-video-intercom-system-installation-guide_page_22_OCR.jpeg\n",
      "OCR image saved as: data/butterflymx-8inch-12inch-video-intercom-system-installation-guide_page_22_OCR_OCR.jpeg\n"
     ]
    },
    {
     "name": "stderr",
     "output_type": "stream",
     "text": [
      "Processing Images:  24%|█████▍                 | 69/292 [00:07<00:22,  9.87it/s]"
     ]
    },
    {
     "name": "stdout",
     "output_type": "stream",
     "text": [
      "OCR image saved as: data/butterflymx-8inch-12inch-video-intercom-system-installation-guide_page_23_OCR.jpeg\n",
      "OCR image saved as: data/butterflymx-8inch-12inch-video-intercom-system-installation-guide_page_23_OCR_OCR.jpeg\n"
     ]
    },
    {
     "name": "stderr",
     "output_type": "stream",
     "text": [
      "Processing Images:  24%|█████▌                 | 71/292 [00:07<00:23,  9.45it/s]"
     ]
    },
    {
     "name": "stdout",
     "output_type": "stream",
     "text": [
      "OCR image saved as: data/butterflymx-8inch-12inch-video-intercom-system-installation-guide_page_24_OCR.jpeg\n",
      "OCR image saved as: data/butterflymx-8inch-12inch-video-intercom-system-installation-guide_page_24_OCR_OCR.jpeg\n"
     ]
    },
    {
     "name": "stderr",
     "output_type": "stream",
     "text": [
      "Processing Images:  25%|█████▊                 | 73/292 [00:08<00:24,  8.96it/s]"
     ]
    },
    {
     "name": "stdout",
     "output_type": "stream",
     "text": [
      "OCR image saved as: data/butterflymx-8inch-12inch-video-intercom-system-installation-guide_page_25_OCR.jpeg\n",
      "OCR image saved as: data/butterflymx-8inch-12inch-video-intercom-system-installation-guide_page_25_OCR_OCR.jpeg\n"
     ]
    },
    {
     "name": "stderr",
     "output_type": "stream",
     "text": [
      "Processing Images:  26%|█████▉                 | 75/292 [00:08<00:27,  7.84it/s]"
     ]
    },
    {
     "name": "stdout",
     "output_type": "stream",
     "text": [
      "OCR image saved as: data/butterflymx-8inch-12inch-video-intercom-system-installation-guide_page_26_OCR.jpeg\n",
      "OCR image saved as: data/butterflymx-8inch-12inch-video-intercom-system-installation-guide_page_26_OCR_OCR.jpeg\n"
     ]
    },
    {
     "name": "stderr",
     "output_type": "stream",
     "text": [
      "Processing Images:  26%|██████                 | 77/292 [00:08<00:26,  8.04it/s]"
     ]
    },
    {
     "name": "stdout",
     "output_type": "stream",
     "text": [
      "OCR image saved as: data/butterflymx-8inch-12inch-video-intercom-system-installation-guide_page_27_OCR.jpeg\n",
      "OCR image saved as: data/butterflymx-8inch-12inch-video-intercom-system-installation-guide_page_27_OCR_OCR.jpeg\n"
     ]
    },
    {
     "name": "stderr",
     "output_type": "stream",
     "text": [
      "Processing Images:  27%|██████▏                | 79/292 [00:08<00:24,  8.71it/s]"
     ]
    },
    {
     "name": "stdout",
     "output_type": "stream",
     "text": [
      "OCR image saved as: data/butterflymx-8inch-12inch-video-intercom-system-installation-guide_page_2_OCR_OCR.jpeg\n",
      "OCR image saved as: data/butterflymx-8inch-12inch-video-intercom-system-installation-guide_page_3_OCR.jpeg\n"
     ]
    },
    {
     "name": "stderr",
     "output_type": "stream",
     "text": [
      "Processing Images:  28%|██████▍                | 81/292 [00:09<00:25,  8.19it/s]"
     ]
    },
    {
     "name": "stdout",
     "output_type": "stream",
     "text": [
      "OCR image saved as: data/butterflymx-8inch-12inch-video-intercom-system-installation-guide_page_3_OCR_OCR.jpeg\n",
      "OCR image saved as: data/butterflymx-8inch-12inch-video-intercom-system-installation-guide_page_4_OCR.jpeg\n"
     ]
    },
    {
     "name": "stderr",
     "output_type": "stream",
     "text": [
      "Processing Images:  28%|██████▍                | 82/292 [00:09<00:27,  7.71it/s]"
     ]
    },
    {
     "name": "stdout",
     "output_type": "stream",
     "text": [
      "OCR image saved as: data/butterflymx-8inch-12inch-video-intercom-system-installation-guide_page_4_OCR_OCR.jpeg\n",
      "OCR image saved as: data/butterflymx-8inch-12inch-video-intercom-system-installation-guide_page_5_OCR.jpeg\n",
      "OCR image saved as: data/butterflymx-8inch-12inch-video-intercom-system-installation-guide_page_5_OCR_OCR.jpeg\n"
     ]
    },
    {
     "name": "stderr",
     "output_type": "stream",
     "text": [
      "Processing Images:  29%|██████▊                | 86/292 [00:09<00:22,  9.28it/s]"
     ]
    },
    {
     "name": "stdout",
     "output_type": "stream",
     "text": [
      "OCR image saved as: data/butterflymx-8inch-12inch-video-intercom-system-installation-guide_page_6_OCR.jpeg\n",
      "OCR image saved as: data/butterflymx-8inch-12inch-video-intercom-system-installation-guide_page_6_OCR_OCR.jpeg\n"
     ]
    },
    {
     "name": "stderr",
     "output_type": "stream",
     "text": [
      "Processing Images:  30%|██████▉                | 88/292 [00:09<00:22,  8.93it/s]"
     ]
    },
    {
     "name": "stdout",
     "output_type": "stream",
     "text": [
      "OCR image saved as: data/butterflymx-8inch-12inch-video-intercom-system-installation-guide_page_7_OCR.jpeg\n",
      "OCR image saved as: data/butterflymx-8inch-12inch-video-intercom-system-installation-guide_page_7_OCR_OCR.jpeg\n"
     ]
    },
    {
     "name": "stderr",
     "output_type": "stream",
     "text": [
      "Processing Images:  31%|███████                | 90/292 [00:10<00:24,  8.19it/s]"
     ]
    },
    {
     "name": "stdout",
     "output_type": "stream",
     "text": [
      "OCR image saved as: data/butterflymx-8inch-12inch-video-intercom-system-installation-guide_page_8_OCR.jpeg\n",
      "OCR image saved as: data/butterflymx-8inch-12inch-video-intercom-system-installation-guide_page_8_OCR_OCR.jpeg\n"
     ]
    },
    {
     "name": "stderr",
     "output_type": "stream",
     "text": [
      "Processing Images:  32%|███████▏               | 92/292 [00:10<00:22,  8.72it/s]"
     ]
    },
    {
     "name": "stdout",
     "output_type": "stream",
     "text": [
      "OCR image saved as: data/butterflymx-8inch-12inch-video-intercom-system-installation-guide_page_9_OCR.jpeg\n",
      "OCR image saved as: data/butterflymx-8inch-12inch-video-intercom-system-installation-guide_page_9_OCR_OCR.jpeg\n",
      "OCR image saved as: data/butterflymx-access-controller-door-state-sensors-guide_page_1_OCR.jpeg\n"
     ]
    },
    {
     "name": "stderr",
     "output_type": "stream",
     "text": [
      "Processing Images:  32%|███████▍               | 94/292 [00:10<00:21,  9.42it/s]"
     ]
    },
    {
     "name": "stdout",
     "output_type": "stream",
     "text": [
      "OCR image saved as: data/butterflymx-access-controller-door-state-sensors-guide_page_1_OCR_OCR.jpeg\n",
      "OCR image saved as: data/butterflymx-access-controller-door-state-sensors-guide_page_2_OCR.jpeg\n"
     ]
    },
    {
     "name": "stderr",
     "output_type": "stream",
     "text": [
      "Processing Images:  33%|███████▋               | 97/292 [00:10<00:20,  9.30it/s]"
     ]
    },
    {
     "name": "stdout",
     "output_type": "stream",
     "text": [
      "OCR image saved as: data/butterflymx-access-controller-door-state-sensors-guide_page_2_OCR_OCR.jpeg\n",
      "OCR image saved as: data/butterflymx-access-controller-door-state-sensors-guide_page_3_OCR.jpeg\n"
     ]
    },
    {
     "name": "stderr",
     "output_type": "stream",
     "text": [
      "Processing Images:  34%|███████▊               | 99/292 [00:11<00:21,  9.09it/s]"
     ]
    },
    {
     "name": "stdout",
     "output_type": "stream",
     "text": [
      "OCR image saved as: data/butterflymx-access-controller-door-state-sensors-guide_page_3_OCR_OCR.jpeg\n",
      "OCR image saved as: data/butterflymx-access-controller-door-state-sensors-guide_page_4_OCR.jpeg\n"
     ]
    },
    {
     "name": "stderr",
     "output_type": "stream",
     "text": [
      "Processing Images:  34%|███████▌              | 100/292 [00:11<00:21,  8.86it/s]"
     ]
    },
    {
     "name": "stdout",
     "output_type": "stream",
     "text": [
      "OCR image saved as: data/butterflymx-access-controller-door-state-sensors-guide_page_4_OCR_OCR.jpeg\n",
      "OCR image saved as: data/butterflymx-access-controller-door-state-sensors-guide_page_5_OCR.jpeg\n"
     ]
    },
    {
     "name": "stderr",
     "output_type": "stream",
     "text": [
      "Processing Images:  36%|███████▊              | 104/292 [00:11<00:19,  9.58it/s]"
     ]
    },
    {
     "name": "stdout",
     "output_type": "stream",
     "text": [
      "OCR image saved as: data/butterflymx-access-controller-door-state-sensors-guide_page_5_OCR_OCR.jpeg\n",
      "OCR image saved as: data/butterflymx-cloud-controller-and-access-reader-installation-guide_page_1_OCR.jpeg\n",
      "OCR image saved as: data/butterflymx-cloud-controller-and-access-reader-installation-guide_page_10_OCR.jpeg\n"
     ]
    },
    {
     "name": "stderr",
     "output_type": "stream",
     "text": [
      "Processing Images:  37%|████████              | 107/292 [00:11<00:19,  9.47it/s]"
     ]
    },
    {
     "name": "stdout",
     "output_type": "stream",
     "text": [
      "OCR image saved as: data/butterflymx-cloud-controller-and-access-reader-installation-guide_page_10_OCR_OCR.jpeg\n",
      "OCR image saved as: data/butterflymx-cloud-controller-and-access-reader-installation-guide_page_11_OCR.jpeg\n",
      "OCR image saved as: data/butterflymx-cloud-controller-and-access-reader-installation-guide_page_11_OCR_OCR.jpeg\n"
     ]
    },
    {
     "name": "stderr",
     "output_type": "stream",
     "text": [
      "Processing Images:  37%|████████▏             | 109/292 [00:12<00:19,  9.38it/s]"
     ]
    },
    {
     "name": "stdout",
     "output_type": "stream",
     "text": [
      "OCR image saved as: data/butterflymx-cloud-controller-and-access-reader-installation-guide_page_12_OCR.jpeg\n",
      "OCR image saved as: data/butterflymx-cloud-controller-and-access-reader-installation-guide_page_12_OCR_OCR.jpeg\n",
      "OCR image saved as: data/butterflymx-cloud-controller-and-access-reader-installation-guide_page_13_OCR.jpeg\n"
     ]
    },
    {
     "name": "stderr",
     "output_type": "stream",
     "text": [
      "Processing Images:  39%|████████▌             | 113/292 [00:12<00:17, 10.02it/s]"
     ]
    },
    {
     "name": "stdout",
     "output_type": "stream",
     "text": [
      "OCR image saved as: data/butterflymx-cloud-controller-and-access-reader-installation-guide_page_13_OCR_OCR.jpeg\n",
      "OCR image saved as: data/butterflymx-cloud-controller-and-access-reader-installation-guide_page_14_OCR.jpeg\n",
      "OCR image saved as: data/butterflymx-cloud-controller-and-access-reader-installation-guide_page_14_OCR_OCR.jpeg\n"
     ]
    },
    {
     "name": "stderr",
     "output_type": "stream",
     "text": [
      "Processing Images:  39%|████████▋             | 115/292 [00:12<00:18,  9.33it/s]"
     ]
    },
    {
     "name": "stdout",
     "output_type": "stream",
     "text": [
      "OCR image saved as: data/butterflymx-cloud-controller-and-access-reader-installation-guide_page_15_OCR.jpeg\n",
      "OCR image saved as: data/butterflymx-cloud-controller-and-access-reader-installation-guide_page_15_OCR_OCR.jpeg\n"
     ]
    },
    {
     "name": "stderr",
     "output_type": "stream",
     "text": [
      "Processing Images:  40%|████████▊             | 117/292 [00:12<00:18,  9.41it/s]"
     ]
    },
    {
     "name": "stdout",
     "output_type": "stream",
     "text": [
      "OCR image saved as: data/butterflymx-cloud-controller-and-access-reader-installation-guide_page_16_OCR.jpeg\n",
      "OCR image saved as: data/butterflymx-cloud-controller-and-access-reader-installation-guide_page_16_OCR_OCR.jpeg\n"
     ]
    },
    {
     "name": "stderr",
     "output_type": "stream",
     "text": [
      "Processing Images:  41%|████████▉             | 119/292 [00:13<00:18,  9.24it/s]"
     ]
    },
    {
     "name": "stdout",
     "output_type": "stream",
     "text": [
      "OCR image saved as: data/butterflymx-cloud-controller-and-access-reader-installation-guide_page_17_OCR.jpeg\n",
      "OCR image saved as: data/butterflymx-cloud-controller-and-access-reader-installation-guide_page_17_OCR_OCR.jpeg\n",
      "OCR image saved as: data/butterflymx-cloud-controller-and-access-reader-installation-guide_page_18_OCR.jpeg\n"
     ]
    },
    {
     "name": "stderr",
     "output_type": "stream",
     "text": [
      "Processing Images:  41%|█████████             | 121/292 [00:13<00:17,  9.54it/s]"
     ]
    },
    {
     "name": "stdout",
     "output_type": "stream",
     "text": [
      "OCR image saved as: data/butterflymx-cloud-controller-and-access-reader-installation-guide_page_18_OCR_OCR.jpeg\n",
      "OCR image saved as: data/butterflymx-cloud-controller-and-access-reader-installation-guide_page_19_OCR.jpeg\n"
     ]
    },
    {
     "name": "stderr",
     "output_type": "stream",
     "text": [
      "Processing Images:  43%|█████████▍            | 125/292 [00:13<00:16, 10.07it/s]"
     ]
    },
    {
     "name": "stdout",
     "output_type": "stream",
     "text": [
      "OCR image saved as: data/butterflymx-cloud-controller-and-access-reader-installation-guide_page_19_OCR_OCR.jpeg\n",
      "OCR image saved as: data/butterflymx-cloud-controller-and-access-reader-installation-guide_page_1_OCR_OCR.jpeg\n",
      "OCR image saved as: data/butterflymx-cloud-controller-and-access-reader-installation-guide_page_2_OCR.jpeg\n"
     ]
    },
    {
     "name": "stderr",
     "output_type": "stream",
     "text": [
      "Processing Images:  43%|█████████▌            | 127/292 [00:13<00:16, 10.30it/s]"
     ]
    },
    {
     "name": "stdout",
     "output_type": "stream",
     "text": [
      "OCR image saved as: data/butterflymx-cloud-controller-and-access-reader-installation-guide_page_20_OCR.jpeg\n",
      "OCR image saved as: data/butterflymx-cloud-controller-and-access-reader-installation-guide_page_20_OCR_OCR.jpeg\n"
     ]
    },
    {
     "name": "stderr",
     "output_type": "stream",
     "text": [
      "Processing Images:  44%|█████████▋            | 129/292 [00:14<00:17,  9.51it/s]"
     ]
    },
    {
     "name": "stdout",
     "output_type": "stream",
     "text": [
      "OCR image saved as: data/butterflymx-cloud-controller-and-access-reader-installation-guide_page_21_OCR.jpeg\n",
      "OCR image saved as: data/butterflymx-cloud-controller-and-access-reader-installation-guide_page_21_OCR_OCR.jpeg\n"
     ]
    },
    {
     "name": "stderr",
     "output_type": "stream",
     "text": [
      "Processing Images:  45%|█████████▊            | 131/292 [00:14<00:18,  8.59it/s]"
     ]
    },
    {
     "name": "stdout",
     "output_type": "stream",
     "text": [
      "OCR image saved as: data/butterflymx-cloud-controller-and-access-reader-installation-guide_page_22_OCR.jpeg\n",
      "OCR image saved as: data/butterflymx-cloud-controller-and-access-reader-installation-guide_page_22_OCR_OCR.jpeg\n"
     ]
    },
    {
     "name": "stderr",
     "output_type": "stream",
     "text": [
      "Processing Images:  46%|██████████            | 133/292 [00:14<00:18,  8.71it/s]"
     ]
    },
    {
     "name": "stdout",
     "output_type": "stream",
     "text": [
      "OCR image saved as: data/butterflymx-cloud-controller-and-access-reader-installation-guide_page_2_OCR_OCR.jpeg\n",
      "OCR image saved as: data/butterflymx-cloud-controller-and-access-reader-installation-guide_page_3_OCR.jpeg\n"
     ]
    },
    {
     "name": "stderr",
     "output_type": "stream",
     "text": [
      "Processing Images:  46%|██████████▏           | 135/292 [00:14<00:18,  8.43it/s]"
     ]
    },
    {
     "name": "stdout",
     "output_type": "stream",
     "text": [
      "OCR image saved as: data/butterflymx-cloud-controller-and-access-reader-installation-guide_page_3_OCR_OCR.jpeg\n",
      "OCR image saved as: data/butterflymx-cloud-controller-and-access-reader-installation-guide_page_4_OCR.jpeg\n"
     ]
    },
    {
     "name": "stderr",
     "output_type": "stream",
     "text": [
      "Processing Images:  47%|██████████▍           | 138/292 [00:15<00:17,  8.92it/s]"
     ]
    },
    {
     "name": "stdout",
     "output_type": "stream",
     "text": [
      "OCR image saved as: data/butterflymx-cloud-controller-and-access-reader-installation-guide_page_4_OCR_OCR.jpeg\n",
      "OCR image saved as: data/butterflymx-cloud-controller-and-access-reader-installation-guide_page_5_OCR.jpeg\n",
      "OCR image saved as: data/butterflymx-cloud-controller-and-access-reader-installation-guide_page_5_OCR_OCR.jpeg\n"
     ]
    },
    {
     "name": "stderr",
     "output_type": "stream",
     "text": [
      "Processing Images:  48%|██████████▌           | 140/292 [00:15<00:16,  9.36it/s]"
     ]
    },
    {
     "name": "stdout",
     "output_type": "stream",
     "text": [
      "OCR image saved as: data/butterflymx-cloud-controller-and-access-reader-installation-guide_page_6_OCR.jpeg\n",
      "OCR image saved as: data/butterflymx-cloud-controller-and-access-reader-installation-guide_page_6_OCR_OCR.jpeg\n"
     ]
    },
    {
     "name": "stderr",
     "output_type": "stream",
     "text": [
      "Processing Images:  49%|██████████▋           | 142/292 [00:15<00:17,  8.68it/s]"
     ]
    },
    {
     "name": "stdout",
     "output_type": "stream",
     "text": [
      "OCR image saved as: data/butterflymx-cloud-controller-and-access-reader-installation-guide_page_7_OCR.jpeg\n",
      "OCR image saved as: data/butterflymx-cloud-controller-and-access-reader-installation-guide_page_7_OCR_OCR.jpeg\n"
     ]
    },
    {
     "name": "stderr",
     "output_type": "stream",
     "text": [
      "Processing Images:  49%|██████████▊           | 144/292 [00:16<00:18,  8.14it/s]"
     ]
    },
    {
     "name": "stdout",
     "output_type": "stream",
     "text": [
      "OCR image saved as: data/butterflymx-cloud-controller-and-access-reader-installation-guide_page_8_OCR.jpeg\n",
      "OCR image saved as: data/butterflymx-cloud-controller-and-access-reader-installation-guide_page_8_OCR_OCR.jpeg\n"
     ]
    },
    {
     "name": "stderr",
     "output_type": "stream",
     "text": [
      "Processing Images:  50%|███████████           | 146/292 [00:16<00:16,  8.59it/s]"
     ]
    },
    {
     "name": "stdout",
     "output_type": "stream",
     "text": [
      "OCR image saved as: data/butterflymx-cloud-controller-and-access-reader-installation-guide_page_9_OCR.jpeg\n",
      "OCR image saved as: data/butterflymx-cloud-controller-and-access-reader-installation-guide_page_9_OCR_OCR.jpeg\n"
     ]
    },
    {
     "name": "stderr",
     "output_type": "stream",
     "text": [
      "Processing Images:  51%|███████████▏          | 148/292 [00:16<00:17,  8.35it/s]"
     ]
    },
    {
     "name": "stdout",
     "output_type": "stream",
     "text": [
      "OCR image saved as: data/butterflymx-key-fobs-programming-guide_page_1_OCR.jpeg\n",
      "OCR image saved as: data/butterflymx-key-fobs-programming-guide_page_1_OCR_OCR.jpeg\n",
      "OCR image saved as: data/butterflymx-recessed-video-intercom-quick-start-guide_page_1_OCR.jpeg\n"
     ]
    },
    {
     "name": "stderr",
     "output_type": "stream",
     "text": [
      "Processing Images:  52%|███████████▌          | 153/292 [00:16<00:10, 13.20it/s]"
     ]
    },
    {
     "name": "stdout",
     "output_type": "stream",
     "text": [
      "OCR image saved as: data/butterflymx-recessed-video-intercom-quick-start-guide_page_10_OCR.jpeg\n",
      "OCR image saved as: data/butterflymx-recessed-video-intercom-quick-start-guide_page_10_OCR_OCR.jpeg\n",
      "OCR image saved as: data/butterflymx-recessed-video-intercom-quick-start-guide_page_11_OCR.jpeg\n",
      "OCR image saved as: data/butterflymx-recessed-video-intercom-quick-start-guide_page_11_OCR_OCR.jpeg\n"
     ]
    },
    {
     "name": "stderr",
     "output_type": "stream",
     "text": [
      "Processing Images:  54%|███████████▊          | 157/292 [00:16<00:09, 14.73it/s]"
     ]
    },
    {
     "name": "stdout",
     "output_type": "stream",
     "text": [
      "OCR image saved as: data/butterflymx-recessed-video-intercom-quick-start-guide_page_12_OCR.jpeg\n",
      "OCR image saved as: data/butterflymx-recessed-video-intercom-quick-start-guide_page_12_OCR_OCR.jpeg\n",
      "OCR image saved as: data/butterflymx-recessed-video-intercom-quick-start-guide_page_13_OCR.jpeg\n",
      "OCR image saved as: data/butterflymx-recessed-video-intercom-quick-start-guide_page_13_OCR_OCR.jpeg\n"
     ]
    },
    {
     "name": "stderr",
     "output_type": "stream",
     "text": [
      "Processing Images:  55%|████████████▏         | 161/292 [00:17<00:08, 15.58it/s]"
     ]
    },
    {
     "name": "stdout",
     "output_type": "stream",
     "text": [
      "OCR image saved as: data/butterflymx-recessed-video-intercom-quick-start-guide_page_14_OCR.jpeg\n",
      "OCR image saved as: data/butterflymx-recessed-video-intercom-quick-start-guide_page_14_OCR_OCR.jpeg\n",
      "OCR image saved as: data/butterflymx-recessed-video-intercom-quick-start-guide_page_15_OCR.jpeg\n",
      "OCR image saved as: data/butterflymx-recessed-video-intercom-quick-start-guide_page_15_OCR_OCR.jpeg\n"
     ]
    },
    {
     "name": "stderr",
     "output_type": "stream",
     "text": [
      "Processing Images:  56%|████████████▎         | 163/292 [00:17<00:08, 15.49it/s]"
     ]
    },
    {
     "name": "stdout",
     "output_type": "stream",
     "text": [
      "OCR image saved as: data/butterflymx-recessed-video-intercom-quick-start-guide_page_16_OCR.jpeg\n",
      "OCR image saved as: data/butterflymx-recessed-video-intercom-quick-start-guide_page_16_OCR_OCR.jpeg\n",
      "OCR image saved as: data/butterflymx-recessed-video-intercom-quick-start-guide_page_17_OCR.jpeg\n"
     ]
    },
    {
     "name": "stderr",
     "output_type": "stream",
     "text": [
      "Processing Images:  57%|████████████▌         | 167/292 [00:17<00:08, 15.54it/s]"
     ]
    },
    {
     "name": "stdout",
     "output_type": "stream",
     "text": [
      "OCR image saved as: data/butterflymx-recessed-video-intercom-quick-start-guide_page_17_OCR_OCR.jpeg\n",
      "OCR image saved as: data/butterflymx-recessed-video-intercom-quick-start-guide_page_18_OCR.jpeg\n",
      "OCR image saved as: data/butterflymx-recessed-video-intercom-quick-start-guide_page_18_OCR_OCR.jpeg\n",
      "OCR image saved as: data/butterflymx-recessed-video-intercom-quick-start-guide_page_19_OCR.jpeg\n"
     ]
    },
    {
     "name": "stderr",
     "output_type": "stream",
     "text": [
      "Processing Images:  59%|████████████▉         | 171/292 [00:17<00:07, 16.31it/s]"
     ]
    },
    {
     "name": "stdout",
     "output_type": "stream",
     "text": [
      "OCR image saved as: data/butterflymx-recessed-video-intercom-quick-start-guide_page_19_OCR_OCR.jpeg\n",
      "OCR image saved as: data/butterflymx-recessed-video-intercom-quick-start-guide_page_1_OCR_OCR.jpeg\n",
      "OCR image saved as: data/butterflymx-recessed-video-intercom-quick-start-guide_page_2_OCR.jpeg\n",
      "OCR image saved as: data/butterflymx-recessed-video-intercom-quick-start-guide_page_20_OCR.jpeg\n"
     ]
    },
    {
     "name": "stderr",
     "output_type": "stream",
     "text": [
      "Processing Images:  60%|█████████████▏        | 175/292 [00:18<00:07, 15.37it/s]"
     ]
    },
    {
     "name": "stdout",
     "output_type": "stream",
     "text": [
      "OCR image saved as: data/butterflymx-recessed-video-intercom-quick-start-guide_page_20_OCR_OCR.jpeg\n",
      "OCR image saved as: data/butterflymx-recessed-video-intercom-quick-start-guide_page_21_OCR.jpeg\n",
      "OCR image saved as: data/butterflymx-recessed-video-intercom-quick-start-guide_page_21_OCR_OCR.jpeg\n",
      "OCR image saved as: data/butterflymx-recessed-video-intercom-quick-start-guide_page_22_OCR.jpeg\n"
     ]
    },
    {
     "name": "stderr",
     "output_type": "stream",
     "text": [
      "Processing Images:  61%|█████████████▍        | 179/292 [00:18<00:07, 14.59it/s]"
     ]
    },
    {
     "name": "stdout",
     "output_type": "stream",
     "text": [
      "OCR image saved as: data/butterflymx-recessed-video-intercom-quick-start-guide_page_22_OCR_OCR.jpeg\n",
      "OCR image saved as: data/butterflymx-recessed-video-intercom-quick-start-guide_page_23_OCR.jpeg\n",
      "OCR image saved as: data/butterflymx-recessed-video-intercom-quick-start-guide_page_23_OCR_OCR.jpeg\n"
     ]
    },
    {
     "name": "stderr",
     "output_type": "stream",
     "text": [
      "Processing Images:  62%|█████████████▋        | 181/292 [00:18<00:08, 12.84it/s]"
     ]
    },
    {
     "name": "stdout",
     "output_type": "stream",
     "text": [
      "OCR image saved as: data/butterflymx-recessed-video-intercom-quick-start-guide_page_24_OCR.jpeg\n",
      "OCR image saved as: data/butterflymx-recessed-video-intercom-quick-start-guide_page_24_OCR_OCR.jpeg\n",
      "OCR image saved as: data/butterflymx-recessed-video-intercom-quick-start-guide_page_25_OCR.jpeg\n"
     ]
    },
    {
     "name": "stderr",
     "output_type": "stream",
     "text": [
      "Processing Images:  63%|█████████████▉        | 185/292 [00:18<00:08, 13.19it/s]"
     ]
    },
    {
     "name": "stdout",
     "output_type": "stream",
     "text": [
      "OCR image saved as: data/butterflymx-recessed-video-intercom-quick-start-guide_page_25_OCR_OCR.jpeg\n",
      "OCR image saved as: data/butterflymx-recessed-video-intercom-quick-start-guide_page_26_OCR.jpeg\n",
      "OCR image saved as: data/butterflymx-recessed-video-intercom-quick-start-guide_page_26_OCR_OCR.jpeg\n"
     ]
    },
    {
     "name": "stderr",
     "output_type": "stream",
     "text": [
      "Processing Images:  64%|██████████████        | 187/292 [00:19<00:08, 11.75it/s]"
     ]
    },
    {
     "name": "stdout",
     "output_type": "stream",
     "text": [
      "OCR image saved as: data/butterflymx-recessed-video-intercom-quick-start-guide_page_27_OCR.jpeg\n",
      "OCR image saved as: data/butterflymx-recessed-video-intercom-quick-start-guide_page_27_OCR_OCR.jpeg\n",
      "OCR image saved as: data/butterflymx-recessed-video-intercom-quick-start-guide_page_28_OCR.jpeg\n"
     ]
    },
    {
     "name": "stderr",
     "output_type": "stream",
     "text": [
      "Processing Images:  65%|██████████████▍       | 191/292 [00:19<00:08, 12.30it/s]"
     ]
    },
    {
     "name": "stdout",
     "output_type": "stream",
     "text": [
      "OCR image saved as: data/butterflymx-recessed-video-intercom-quick-start-guide_page_28_OCR_OCR.jpeg\n",
      "OCR image saved as: data/butterflymx-recessed-video-intercom-quick-start-guide_page_29_OCR.jpeg\n",
      "OCR image saved as: data/butterflymx-recessed-video-intercom-quick-start-guide_page_29_OCR_OCR.jpeg\n"
     ]
    },
    {
     "name": "stderr",
     "output_type": "stream",
     "text": [
      "Processing Images:  66%|██████████████▌       | 193/292 [00:19<00:07, 12.52it/s]"
     ]
    },
    {
     "name": "stdout",
     "output_type": "stream",
     "text": [
      "OCR image saved as: data/butterflymx-recessed-video-intercom-quick-start-guide_page_2_OCR_OCR.jpeg\n",
      "OCR image saved as: data/butterflymx-recessed-video-intercom-quick-start-guide_page_3_OCR.jpeg\n",
      "OCR image saved as: data/butterflymx-recessed-video-intercom-quick-start-guide_page_30_OCR.jpeg\n"
     ]
    },
    {
     "name": "stderr",
     "output_type": "stream",
     "text": [
      "Processing Images:  67%|██████████████▋       | 195/292 [00:19<00:08, 12.02it/s]"
     ]
    },
    {
     "name": "stdout",
     "output_type": "stream",
     "text": [
      "OCR image saved as: data/butterflymx-recessed-video-intercom-quick-start-guide_page_30_OCR_OCR.jpeg\n",
      "OCR image saved as: data/butterflymx-recessed-video-intercom-quick-start-guide_page_31_OCR.jpeg\n"
     ]
    },
    {
     "name": "stderr",
     "output_type": "stream",
     "text": [
      "Processing Images:  68%|██████████████▉       | 199/292 [00:20<00:08, 10.97it/s]"
     ]
    },
    {
     "name": "stdout",
     "output_type": "stream",
     "text": [
      "OCR image saved as: data/butterflymx-recessed-video-intercom-quick-start-guide_page_31_OCR_OCR.jpeg\n",
      "OCR image saved as: data/butterflymx-recessed-video-intercom-quick-start-guide_page_32_OCR.jpeg\n",
      "OCR image saved as: data/butterflymx-recessed-video-intercom-quick-start-guide_page_32_OCR_OCR.jpeg\n"
     ]
    },
    {
     "name": "stderr",
     "output_type": "stream",
     "text": [
      "Processing Images:  69%|███████████████▏      | 201/292 [00:20<00:08, 10.22it/s]"
     ]
    },
    {
     "name": "stdout",
     "output_type": "stream",
     "text": [
      "OCR image saved as: data/butterflymx-recessed-video-intercom-quick-start-guide_page_33_OCR.jpeg\n",
      "OCR image saved as: data/butterflymx-recessed-video-intercom-quick-start-guide_page_33_OCR_OCR.jpeg\n",
      "OCR image saved as: data/butterflymx-recessed-video-intercom-quick-start-guide_page_34_OCR.jpeg\n"
     ]
    },
    {
     "name": "stderr",
     "output_type": "stream",
     "text": [
      "Processing Images:  70%|███████████████▍      | 205/292 [00:20<00:07, 11.29it/s]"
     ]
    },
    {
     "name": "stdout",
     "output_type": "stream",
     "text": [
      "OCR image saved as: data/butterflymx-recessed-video-intercom-quick-start-guide_page_34_OCR_OCR.jpeg\n",
      "OCR image saved as: data/butterflymx-recessed-video-intercom-quick-start-guide_page_35_OCR.jpeg\n",
      "OCR image saved as: data/butterflymx-recessed-video-intercom-quick-start-guide_page_35_OCR_OCR.jpeg\n",
      "OCR image saved as: data/butterflymx-recessed-video-intercom-quick-start-guide_page_36_OCR.jpeg\n"
     ]
    },
    {
     "name": "stderr",
     "output_type": "stream",
     "text": [
      "Processing Images:  72%|███████████████▋      | 209/292 [00:20<00:06, 13.76it/s]"
     ]
    },
    {
     "name": "stdout",
     "output_type": "stream",
     "text": [
      "OCR image saved as: data/butterflymx-recessed-video-intercom-quick-start-guide_page_36_OCR_OCR.jpeg\n",
      "OCR image saved as: data/butterflymx-recessed-video-intercom-quick-start-guide_page_3_OCR_OCR.jpeg\n",
      "OCR image saved as: data/butterflymx-recessed-video-intercom-quick-start-guide_page_4_OCR.jpeg\n",
      "OCR image saved as: data/butterflymx-recessed-video-intercom-quick-start-guide_page_4_OCR_OCR.jpeg\n"
     ]
    },
    {
     "name": "stderr",
     "output_type": "stream",
     "text": [
      "Processing Images:  73%|████████████████      | 213/292 [00:21<00:05, 14.08it/s]"
     ]
    },
    {
     "name": "stdout",
     "output_type": "stream",
     "text": [
      "OCR image saved as: data/butterflymx-recessed-video-intercom-quick-start-guide_page_5_OCR.jpeg\n",
      "OCR image saved as: data/butterflymx-recessed-video-intercom-quick-start-guide_page_5_OCR_OCR.jpeg\n",
      "OCR image saved as: data/butterflymx-recessed-video-intercom-quick-start-guide_page_6_OCR.jpeg\n"
     ]
    },
    {
     "name": "stderr",
     "output_type": "stream",
     "text": [
      "Processing Images:  74%|████████████████▏     | 215/292 [00:21<00:05, 14.36it/s]"
     ]
    },
    {
     "name": "stdout",
     "output_type": "stream",
     "text": [
      "OCR image saved as: data/butterflymx-recessed-video-intercom-quick-start-guide_page_6_OCR_OCR.jpeg\n",
      "OCR image saved as: data/butterflymx-recessed-video-intercom-quick-start-guide_page_7_OCR.jpeg\n",
      "OCR image saved as: data/butterflymx-recessed-video-intercom-quick-start-guide_page_7_OCR_OCR.jpeg\n"
     ]
    },
    {
     "name": "stderr",
     "output_type": "stream",
     "text": [
      "Processing Images:  75%|████████████████▌     | 219/292 [00:21<00:04, 14.61it/s]"
     ]
    },
    {
     "name": "stdout",
     "output_type": "stream",
     "text": [
      "OCR image saved as: data/butterflymx-recessed-video-intercom-quick-start-guide_page_8_OCR.jpeg\n",
      "OCR image saved as: data/butterflymx-recessed-video-intercom-quick-start-guide_page_8_OCR_OCR.jpeg\n",
      "OCR image saved as: data/butterflymx-recessed-video-intercom-quick-start-guide_page_9_OCR.jpeg\n"
     ]
    },
    {
     "name": "stderr",
     "output_type": "stream",
     "text": [
      "Processing Images:  76%|████████████████▋     | 221/292 [00:21<00:05, 13.75it/s]"
     ]
    },
    {
     "name": "stdout",
     "output_type": "stream",
     "text": [
      "OCR image saved as: data/butterflymx-recessed-video-intercom-quick-start-guide_page_9_OCR_OCR.jpeg\n",
      "OCR image saved as: data/butterflymx-security-camera-installation-guide_page_1_OCR.jpeg\n",
      "OCR image saved as: data/butterflymx-security-camera-installation-guide_page_10_OCR.jpeg\n"
     ]
    },
    {
     "name": "stderr",
     "output_type": "stream",
     "text": [
      "Processing Images:  76%|████████████████▊     | 223/292 [00:22<00:05, 12.26it/s]"
     ]
    },
    {
     "name": "stdout",
     "output_type": "stream",
     "text": [
      "OCR image saved as: data/butterflymx-security-camera-installation-guide_page_10_OCR_OCR.jpeg\n",
      "OCR image saved as: data/butterflymx-security-camera-installation-guide_page_11_OCR.jpeg\n"
     ]
    },
    {
     "name": "stderr",
     "output_type": "stream",
     "text": [
      "Processing Images:  78%|█████████████████     | 227/292 [00:22<00:06, 10.32it/s]"
     ]
    },
    {
     "name": "stdout",
     "output_type": "stream",
     "text": [
      "OCR image saved as: data/butterflymx-security-camera-installation-guide_page_11_OCR_OCR.jpeg\n",
      "OCR image saved as: data/butterflymx-security-camera-installation-guide_page_12_OCR.jpeg\n",
      "OCR image saved as: data/butterflymx-security-camera-installation-guide_page_12_OCR_OCR.jpeg\n"
     ]
    },
    {
     "name": "stderr",
     "output_type": "stream",
     "text": [
      "Processing Images:  78%|█████████████████▎    | 229/292 [00:22<00:06,  9.78it/s]"
     ]
    },
    {
     "name": "stdout",
     "output_type": "stream",
     "text": [
      "OCR image saved as: data/butterflymx-security-camera-installation-guide_page_13_OCR.jpeg\n",
      "OCR image saved as: data/butterflymx-security-camera-installation-guide_page_13_OCR_OCR.jpeg\n"
     ]
    },
    {
     "name": "stderr",
     "output_type": "stream",
     "text": [
      "Processing Images:  79%|█████████████████▍    | 231/292 [00:22<00:06, 10.01it/s]"
     ]
    },
    {
     "name": "stdout",
     "output_type": "stream",
     "text": [
      "OCR image saved as: data/butterflymx-security-camera-installation-guide_page_14_OCR.jpeg\n",
      "OCR image saved as: data/butterflymx-security-camera-installation-guide_page_14_OCR_OCR.jpeg\n",
      "OCR image saved as: data/butterflymx-security-camera-installation-guide_page_15_OCR.jpeg\n"
     ]
    },
    {
     "name": "stderr",
     "output_type": "stream",
     "text": [
      "Processing Images:  80%|█████████████████▋    | 235/292 [00:23<00:05, 10.31it/s]"
     ]
    },
    {
     "name": "stdout",
     "output_type": "stream",
     "text": [
      "OCR image saved as: data/butterflymx-security-camera-installation-guide_page_15_OCR_OCR.jpeg\n",
      "OCR image saved as: data/butterflymx-security-camera-installation-guide_page_16_OCR.jpeg\n",
      "OCR image saved as: data/butterflymx-security-camera-installation-guide_page_16_OCR_OCR.jpeg\n"
     ]
    },
    {
     "name": "stderr",
     "output_type": "stream",
     "text": [
      "Processing Images:  81%|█████████████████▊    | 237/292 [00:23<00:05,  9.36it/s]"
     ]
    },
    {
     "name": "stdout",
     "output_type": "stream",
     "text": [
      "OCR image saved as: data/butterflymx-security-camera-installation-guide_page_17_OCR.jpeg\n",
      "OCR image saved as: data/butterflymx-security-camera-installation-guide_page_17_OCR_OCR.jpeg\n"
     ]
    },
    {
     "name": "stderr",
     "output_type": "stream",
     "text": [
      "Processing Images:  82%|██████████████████    | 239/292 [00:23<00:05, 10.07it/s]"
     ]
    },
    {
     "name": "stdout",
     "output_type": "stream",
     "text": [
      "OCR image saved as: data/butterflymx-security-camera-installation-guide_page_18_OCR.jpeg\n",
      "OCR image saved as: data/butterflymx-security-camera-installation-guide_page_18_OCR_OCR.jpeg\n",
      "OCR image saved as: data/butterflymx-security-camera-installation-guide_page_1_OCR_OCR.jpeg\n"
     ]
    },
    {
     "name": "stderr",
     "output_type": "stream",
     "text": [
      "Processing Images:  83%|██████████████████▎   | 243/292 [00:24<00:04, 10.32it/s]"
     ]
    },
    {
     "name": "stdout",
     "output_type": "stream",
     "text": [
      "OCR image saved as: data/butterflymx-security-camera-installation-guide_page_2_OCR.jpeg\n",
      "OCR image saved as: data/butterflymx-security-camera-installation-guide_page_2_OCR_OCR.jpeg\n",
      "OCR image saved as: data/butterflymx-security-camera-installation-guide_page_3_OCR.jpeg\n"
     ]
    },
    {
     "name": "stderr",
     "output_type": "stream",
     "text": [
      "Processing Images:  84%|██████████████████▍   | 245/292 [00:24<00:04,  9.85it/s]"
     ]
    },
    {
     "name": "stdout",
     "output_type": "stream",
     "text": [
      "OCR image saved as: data/butterflymx-security-camera-installation-guide_page_3_OCR_OCR.jpeg\n",
      "OCR image saved as: data/butterflymx-security-camera-installation-guide_page_4_OCR.jpeg\n"
     ]
    },
    {
     "name": "stderr",
     "output_type": "stream",
     "text": [
      "Processing Images:  85%|██████████████████▋   | 248/292 [00:24<00:04,  9.70it/s]"
     ]
    },
    {
     "name": "stdout",
     "output_type": "stream",
     "text": [
      "OCR image saved as: data/butterflymx-security-camera-installation-guide_page_4_OCR_OCR.jpeg\n",
      "OCR image saved as: data/butterflymx-security-camera-installation-guide_page_5_OCR.jpeg\n",
      "OCR image saved as: data/butterflymx-security-camera-installation-guide_page_5_OCR_OCR.jpeg\n"
     ]
    },
    {
     "name": "stderr",
     "output_type": "stream",
     "text": [
      "Processing Images:  86%|██████████████████▊   | 250/292 [00:24<00:04, 10.10it/s]"
     ]
    },
    {
     "name": "stdout",
     "output_type": "stream",
     "text": [
      "OCR image saved as: data/butterflymx-security-camera-installation-guide_page_6_OCR.jpeg\n",
      "OCR image saved as: data/butterflymx-security-camera-installation-guide_page_6_OCR_OCR.jpeg\n"
     ]
    },
    {
     "name": "stderr",
     "output_type": "stream",
     "text": [
      "Processing Images:  86%|██████████████████▉   | 252/292 [00:25<00:04,  9.35it/s]"
     ]
    },
    {
     "name": "stdout",
     "output_type": "stream",
     "text": [
      "OCR image saved as: data/butterflymx-security-camera-installation-guide_page_7_OCR.jpeg\n",
      "OCR image saved as: data/butterflymx-security-camera-installation-guide_page_7_OCR_OCR.jpeg\n"
     ]
    },
    {
     "name": "stderr",
     "output_type": "stream",
     "text": [
      "Processing Images:  87%|███████████████████▏  | 254/292 [00:25<00:04,  8.67it/s]"
     ]
    },
    {
     "name": "stdout",
     "output_type": "stream",
     "text": [
      "OCR image saved as: data/butterflymx-security-camera-installation-guide_page_8_OCR.jpeg\n",
      "OCR image saved as: data/butterflymx-security-camera-installation-guide_page_8_OCR_OCR.jpeg\n"
     ]
    },
    {
     "name": "stderr",
     "output_type": "stream",
     "text": [
      "Processing Images:  88%|███████████████████▎  | 256/292 [00:25<00:04,  8.48it/s]"
     ]
    },
    {
     "name": "stdout",
     "output_type": "stream",
     "text": [
      "OCR image saved as: data/butterflymx-security-camera-installation-guide_page_9_OCR.jpeg\n",
      "OCR image saved as: data/butterflymx-security-camera-installation-guide_page_9_OCR_OCR.jpeg\n"
     ]
    },
    {
     "name": "stderr",
     "output_type": "stream",
     "text": [
      "Processing Images:  88%|███████████████████▍  | 258/292 [00:25<00:03,  8.79it/s]"
     ]
    },
    {
     "name": "stdout",
     "output_type": "stream",
     "text": [
      "OCR image saved as: data/butterflymx-vehicle-reader-cutsheet_page_1_OCR.jpeg\n",
      "OCR image saved as: data/butterflymx-vehicle-reader-cutsheet_page_1_OCR_OCR.jpeg\n"
     ]
    },
    {
     "name": "stderr",
     "output_type": "stream",
     "text": [
      "Processing Images:  89%|███████████████████▌  | 260/292 [00:25<00:03,  9.62it/s]"
     ]
    },
    {
     "name": "stdout",
     "output_type": "stream",
     "text": [
      "OCR image saved as: data/butterflymx-vehicle-reader-cutsheet_page_2_OCR.jpeg\n",
      "OCR image saved as: data/butterflymx-vehicle-reader-cutsheet_page_2_OCR_OCR.jpeg\n",
      "OCR image saved as: data/butterflymx-vehicle-tags-installation-guide_page_1_OCR.jpeg\n"
     ]
    },
    {
     "name": "stderr",
     "output_type": "stream",
     "text": [
      "Processing Images:  90%|███████████████████▉  | 264/292 [00:26<00:02, 10.14it/s]"
     ]
    },
    {
     "name": "stdout",
     "output_type": "stream",
     "text": [
      "OCR image saved as: data/butterflymx-vehicle-tags-installation-guide_page_1_OCR_OCR.jpeg\n",
      "OCR image saved as: data/butterflymx-vehicle-tags-installation-guide_page_2_OCR.jpeg\n",
      "OCR image saved as: data/butterflymx-vehicle-tags-installation-guide_page_2_OCR_OCR.jpeg\n"
     ]
    },
    {
     "name": "stderr",
     "output_type": "stream",
     "text": [
      "Processing Images:  91%|████████████████████  | 266/292 [00:26<00:02, 10.13it/s]"
     ]
    },
    {
     "name": "stdout",
     "output_type": "stream",
     "text": [
      "OCR image saved as: data/butterflymx-vehicle-tags-installation-guide_page_3_OCR.jpeg\n",
      "OCR image saved as: data/butterflymx-vehicle-tags-installation-guide_page_3_OCR_OCR.jpeg\n"
     ]
    },
    {
     "name": "stderr",
     "output_type": "stream",
     "text": [
      "Processing Images:  92%|████████████████████▏ | 268/292 [00:26<00:02,  9.22it/s]"
     ]
    },
    {
     "name": "stdout",
     "output_type": "stream",
     "text": [
      "OCR image saved as: data/butterflymx-vehicle-tags-programming-guide_page_1_OCR.jpeg\n",
      "OCR image saved as: data/butterflymx-vehicle-tags-programming-guide_page_1_OCR_OCR.jpeg\n"
     ]
    },
    {
     "name": "stderr",
     "output_type": "stream",
     "text": [
      "Processing Images:  92%|████████████████████▎ | 270/292 [00:26<00:02,  9.46it/s]"
     ]
    },
    {
     "name": "stdout",
     "output_type": "stream",
     "text": [
      "OCR image saved as: data/butterflymx-video-intercom-ac-door-strike-wiring-guide_page_1_OCR.jpeg\n",
      "OCR image saved as: data/butterflymx-video-intercom-ac-door-strike-wiring-guide_page_1_OCR_OCR.jpeg\n",
      "OCR image saved as: data/butterflymx-video-intercom-dc-door-strike-wiring-guide_page_1_OCR.jpeg\n"
     ]
    },
    {
     "name": "stderr",
     "output_type": "stream",
     "text": [
      "Processing Images:  93%|████████████████████▍ | 272/292 [00:27<00:02,  9.60it/s]"
     ]
    },
    {
     "name": "stdout",
     "output_type": "stream",
     "text": [
      "OCR image saved as: data/butterflymx-video-intercom-dc-door-strike-wiring-guide_page_1_OCR_OCR.jpeg\n",
      "OCR image saved as: data/butterflymx-video-intercom-dc-maglock-wiring-guide_page_1_OCR.jpeg\n"
     ]
    },
    {
     "name": "stderr",
     "output_type": "stream",
     "text": [
      "Processing Images:  94%|████████████████████▋ | 275/292 [00:27<00:01,  9.47it/s]"
     ]
    },
    {
     "name": "stdout",
     "output_type": "stream",
     "text": [
      "OCR image saved as: data/butterflymx-video-intercom-dc-maglock-wiring-guide_page_1_OCR_OCR.jpeg\n",
      "OCR image saved as: data/butterflymx-video-intercom-power-splicing-guide_page_1_OCR.jpeg\n"
     ]
    },
    {
     "name": "stderr",
     "output_type": "stream",
     "text": [
      "Processing Images:  95%|████████████████████▉ | 278/292 [00:27<00:01,  9.83it/s]"
     ]
    },
    {
     "name": "stdout",
     "output_type": "stream",
     "text": [
      "OCR image saved as: data/butterflymx-video-intercom-power-splicing-guide_page_1_OCR_OCR.jpeg\n",
      "OCR image saved as: data/butterflymx-video-intercom-power-splicing-guide_page_2_OCR.jpeg\n",
      "OCR image saved as: data/butterflymx-video-intercom-power-splicing-guide_page_2_OCR_OCR.jpeg\n"
     ]
    },
    {
     "name": "stderr",
     "output_type": "stream",
     "text": [
      "Processing Images:  96%|█████████████████████ | 280/292 [00:27<00:01,  9.99it/s]"
     ]
    },
    {
     "name": "stdout",
     "output_type": "stream",
     "text": [
      "OCR image saved as: data/butterflymx-video-intercom-wiring-diagram_page_1_OCR.jpeg\n",
      "OCR image saved as: data/butterflymx-video-intercom-wiring-diagram_page_1_OCR_OCR.jpeg\n",
      "OCR image saved as: data/butterflymx-video-intercom-wiring-diagram_page_2_OCR.jpeg\n"
     ]
    },
    {
     "name": "stderr",
     "output_type": "stream",
     "text": [
      "Processing Images:  97%|█████████████████████▍| 284/292 [00:28<00:00, 10.29it/s]"
     ]
    },
    {
     "name": "stdout",
     "output_type": "stream",
     "text": [
      "OCR image saved as: data/butterflymx-video-intercom-wiring-diagram_page_2_OCR_OCR.jpeg\n",
      "OCR image saved as: data/butterflymx-wiegand-OSDP-installation-guide_page_1_OCR.jpeg\n",
      "OCR image saved as: data/butterflymx-wiegand-OSDP-installation-guide_page_1_OCR_OCR.jpeg\n"
     ]
    },
    {
     "name": "stderr",
     "output_type": "stream",
     "text": [
      "Processing Images:  98%|█████████████████████▌| 286/292 [00:28<00:00,  9.71it/s]"
     ]
    },
    {
     "name": "stdout",
     "output_type": "stream",
     "text": [
      "OCR image saved as: data/butterflymx-wiegand-OSDP-installation-guide_page_2_OCR.jpeg\n",
      "OCR image saved as: data/butterflymx-wiegand-OSDP-installation-guide_page_2_OCR_OCR.jpeg\n"
     ]
    },
    {
     "name": "stderr",
     "output_type": "stream",
     "text": [
      "Processing Images:  99%|█████████████████████▋| 288/292 [00:28<00:00,  9.68it/s]"
     ]
    },
    {
     "name": "stdout",
     "output_type": "stream",
     "text": [
      "OCR image saved as: data/butterflymx-wiegand-OSDP-installation-guide_page_3_OCR.jpeg\n",
      "OCR image saved as: data/butterflymx-wiegand-OSDP-installation-guide_page_3_OCR_OCR.jpeg\n"
     ]
    },
    {
     "name": "stderr",
     "output_type": "stream",
     "text": [
      "Processing Images:  99%|█████████████████████▊| 290/292 [00:29<00:00,  9.73it/s]"
     ]
    },
    {
     "name": "stdout",
     "output_type": "stream",
     "text": [
      "OCR image saved as: data/butterflymx-wiegand-OSDP-installation-guide_page_4_OCR.jpeg\n",
      "OCR image saved as: data/butterflymx-wiegand-OSDP-installation-guide_page_4_OCR_OCR.jpeg\n"
     ]
    },
    {
     "name": "stderr",
     "output_type": "stream",
     "text": [
      "Processing Images: 100%|██████████████████████| 292/292 [00:29<00:00,  9.99it/s]"
     ]
    },
    {
     "name": "stdout",
     "output_type": "stream",
     "text": [
      "OCR image saved as: data/butterflymx-wiegand-OSDP-installation-guide_page_5_OCR.jpeg\n",
      "OCR image saved as: data/butterflymx-wiegand-OSDP-installation-guide_page_5_OCR_OCR.jpeg\n"
     ]
    },
    {
     "name": "stderr",
     "output_type": "stream",
     "text": [
      "\n"
     ]
    }
   ],
   "source": [
    "# Ensure the correct font is loaded\n",
    "try:\n",
    "    font = ImageFont.truetype(\"arial.ttf\", 22)  # Use Arial font\n",
    "except IOError:\n",
    "    font = ImageFont.load_default()  # Fallback to default PIL font\n",
    "\n",
    "def create_ocr_image(image_path: Path, font=font):\n",
    "    \"\"\"\n",
    "    Creates an OCR annotated image by combining two images side-by-side:\n",
    "    - Left: the original image with blue bounding boxes and index numbers.\n",
    "    - Right: a white image with OCR words printed at corresponding positions.\n",
    "    \n",
    "    The new image is saved with the original filename appended by \"_OCR\".\n",
    "    \n",
    "    Parameters:\n",
    "        image_path (Path): Path to the source JPEG image.\n",
    "        font (ImageFont): Font used for drawing text.\n",
    "    \n",
    "    Returns:\n",
    "        Path: Path to the newly saved annotated OCR image.\n",
    "    \"\"\"\n",
    "    # Open the original image (left image) and create a blank white image (right image)\n",
    "    left_image = Image.open(image_path).convert(\"RGB\")\n",
    "    right_image = Image.new(\"RGB\", left_image.size, (255, 255, 255))\n",
    "    \n",
    "    # Create drawing contexts for both images\n",
    "    left_draw = ImageDraw.Draw(left_image)\n",
    "    right_draw = ImageDraw.Draw(right_image)\n",
    "    \n",
    "    # Load OCR results from the corresponding JSON file\n",
    "    json_path = image_path.with_suffix(\".json\")\n",
    "    with json_path.open(\"r\") as f:\n",
    "        ocr_data = json.load(f)  # Expecting a list of dicts with \"word\" and \"bounding_box\"\n",
    "    \n",
    "    # Process each OCR result from the JSON data\n",
    "    for i, entry in enumerate(ocr_data):\n",
    "        word = entry[\"word\"]\n",
    "        # The JSON file should contain bounding_box as [left, top, right, bottom]\n",
    "        box = entry[\"bounding_box\"]\n",
    "        left, top, right, bottom = box\n",
    "        \n",
    "        # Draw bounding box on the left image\n",
    "        left_draw.rectangle(box, outline=\"blue\", width=2)\n",
    "        # Write an index number beside the bounding box on the left image\n",
    "        left_draw.text((right + 5, top), text=str(i + 1), fill=\"red\", font=font)\n",
    "        # Write the OCR word on the right image at the same coordinate\n",
    "        right_draw.text((left, top), text=word, fill=\"black\", font=font)\n",
    "    \n",
    "    # Combine the two images side by side\n",
    "    combined_width = left_image.width + right_image.width\n",
    "    combined_height = left_image.height\n",
    "    combined_image = Image.new(\"RGB\", (combined_width, combined_height))\n",
    "    combined_image.paste(left_image, (0, 0))\n",
    "    combined_image.paste(right_image, (left_image.width, 0))\n",
    "    \n",
    "    # Save the combined image with a new filename: original name + \"_OCR\" (same extension)\n",
    "    new_image_path = image_path.with_name(f\"{image_path.stem}_OCR{image_path.suffix}\")\n",
    "    combined_image.save(new_image_path)\n",
    "    \n",
    "    return new_image_path\n",
    "\n",
    "# Example usage: Process each image using the OCR data stored in the corresponding JSON file.\n",
    "# (Assumes that the JSON files have already been created previously.)\n",
    "for image_path in tqdm(image_paths, desc=\"Processing Images\"):\n",
    "    new_ocr_image = create_ocr_image(image_path, font=font)\n",
    "    print(f\"OCR image saved as: {new_ocr_image}\")\n"
   ]
  },
  {
   "cell_type": "code",
   "execution_count": 9,
   "metadata": {},
   "outputs": [],
   "source": [
    "# try:\n",
    "#     font = ImageFont.truetype(\"arial.ttf\", 22)  # Use Arial font\n",
    "# except IOError:\n",
    "#     font = ImageFont.load_default()  # Fallback to default PIL font"
   ]
  },
  {
   "cell_type": "code",
   "execution_count": 10,
   "metadata": {},
   "outputs": [],
   "source": [
    "# left_image = Image.open(image_path).convert(\"RGB\")\n",
    "# right_image = Image.new(\"RGB\", left_image.size, (255, 255, 255))\n",
    " \n",
    "# left_draw = ImageDraw.Draw(left_image)\n",
    "# right_draw = ImageDraw.Draw(right_image)\n",
    "\n",
    "# for i, (bbox, word, confidence) in enumerate(ocr_result):\n",
    "#     box = create_bounding_box(bbox)\n",
    " \n",
    "#     left_draw.rectangle(box, outline=\"blue\", width=2)\n",
    "#     left, top, right, bottom = box\n",
    " \n",
    "#     left_draw.text((right + 5, top), text=str(i + 1), fill=\"red\", font=font)\n",
    "#     right_draw.text((left, top), text=word, fill=\"black\", font=font)"
   ]
  },
  {
   "cell_type": "code",
   "execution_count": 11,
   "metadata": {},
   "outputs": [],
   "source": [
    "# def create_ocr_image(image_path, ocr_result, font=font):\n",
    "#     \"\"\"\n",
    "#     Creates an OCR annotated image by combining two images side-by-side:\n",
    "#     - Left: original image with blue bounding boxes and index numbers.\n",
    "#     - Right: white image with OCR words printed at the corresponding positions.\n",
    "    \n",
    "#     The new image is saved as JPEG with the original name appended by \"_OCR\".\n",
    "    \n",
    "#     Parameters:\n",
    "#         image_path (Path): Path to the source JPEG image.\n",
    "#         ocr_result (list): OCR result from easyocr.Reader.readtext. Each element is a tuple:\n",
    "#                            (bounding_box, word, confidence).\n",
    "#         font (ImageFont): Font used for drawing text.\n",
    "    \n",
    "#     Returns:\n",
    "#         Path: Path to the newly saved OCR image.\n",
    "#     \"\"\"\n",
    "#     # Open the original image (left image) and create a blank white image (right image)\n",
    "#     left_image = Image.open(image_path).convert(\"RGB\")\n",
    "#     right_image = Image.new(\"RGB\", left_image.size, (255, 255, 255))\n",
    "    \n",
    "#     # Create drawing contexts for both images\n",
    "#     left_draw = ImageDraw.Draw(left_image)\n",
    "#     right_draw = ImageDraw.Draw(right_image)\n",
    "    \n",
    "#     # Process each OCR result\n",
    "#     for i, (bbox, word, confidence) in enumerate(ocr_result):\n",
    "#         box = create_bounding_box(bbox)\n",
    "#         # Draw bounding box on the left image\n",
    "#         left_draw.rectangle(box, outline=\"blue\", width=2)\n",
    "#         left, top, right, bottom = box\n",
    "#         # Write an index number beside the bounding box on the left image\n",
    "#         left_draw.text((right + 5, top), text=str(i + 1), fill=\"red\", font=font)\n",
    "#         # Write the OCR word on the right image at the same top-left coordinate\n",
    "#         right_draw.text((left, top), text=word, fill=\"black\", font=font)\n",
    "    \n",
    "#     # Combine the two images side by side\n",
    "#     combined_width = left_image.width + right_image.width\n",
    "#     combined_height = left_image.height\n",
    "#     combined_image = Image.new(\"RGB\", (combined_width, combined_height))\n",
    "#     combined_image.paste(left_image, (0, 0))\n",
    "#     combined_image.paste(right_image, (left_image.width, 0))\n",
    "    \n",
    "#     # Save the combined image with new filename: original name + \"_OCR\" (preserve extension)\n",
    "#     new_image_path = image_path.with_name(f\"{image_path.stem}_OCR{image_path.suffix}\")\n",
    "#     combined_image.save(new_image_path)\n",
    "    \n",
    "#     return new_image_path"
   ]
  },
  {
   "cell_type": "code",
   "execution_count": null,
   "metadata": {},
   "outputs": [],
   "source": []
  },
  {
   "cell_type": "code",
   "execution_count": 12,
   "metadata": {},
   "outputs": [],
   "source": [
    "# # Process each image: perform OCR and then create the annotated OCR image\n",
    "# for image_path in tqdm(image_paths, desc=\"Processing Images\"):\n",
    "#     new_ocr_image = create_ocr_image(image_path, ocr_result)\n",
    "#     print(f\"OCR image saved as: {new_ocr_image}\")"
   ]
  }
 ],
 "metadata": {
  "kernelspec": {
   "display_name": "Python 3 (ipykernel)",
   "language": "python",
   "name": "python3"
  },
  "language_info": {
   "codemirror_mode": {
    "name": "ipython",
    "version": 3
   },
   "file_extension": ".py",
   "mimetype": "text/x-python",
   "name": "python",
   "nbconvert_exporter": "python",
   "pygments_lexer": "ipython3",
   "version": "3.9.6"
  }
 },
 "nbformat": 4,
 "nbformat_minor": 4
}
