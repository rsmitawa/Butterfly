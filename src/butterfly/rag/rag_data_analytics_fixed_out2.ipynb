{
 "cells": [
  {
   "cell_type": "markdown",
   "metadata": {},
   "source": [
    "# RAG Data Analytics & Visualization Notebook\n",
    "\n",
    "This notebook provides an end-to-end workflow for analyzing and visualizing data extracted by the Retrieval-Augmented Generation (RAG) pipeline. It is intended for data analytics and visualization only. All extraction, ingestion, and deployment logic remains in the original Python files."
   ]
  },
  {
   "cell_type": "code",
   "execution_count": 1,
   "metadata": {
    "execution": {
     "iopub.execute_input": "2025-04-25T19:09:51.918169Z",
     "iopub.status.busy": "2025-04-25T19:09:51.917856Z",
     "iopub.status.idle": "2025-04-25T19:09:52.722667Z",
     "shell.execute_reply": "2025-04-25T19:09:52.722390Z"
    }
   },
   "outputs": [],
   "source": [
    "# --- Imports & Setup ---\n",
    "import pandas as pd\n",
    "import matplotlib.pyplot as plt\n",
    "import seaborn as sns\n",
    "from pymongo import MongoClient\n",
    "import json\n",
    "import os\n",
    "\n",
    "# Set up plotting\n",
    "sns.set(style=\"whitegrid\")\n",
    "plt.rcParams[\"figure.figsize\"] = (10, 6)\n"
   ]
  },
  {
   "cell_type": "markdown",
   "metadata": {},
   "source": [
    "## 1. Data Loading\n",
    "Connect to MongoDB or load exported data files."
   ]
  },
  {
   "cell_type": "code",
   "execution_count": 2,
   "metadata": {
    "execution": {
     "iopub.execute_input": "2025-04-25T19:09:52.724217Z",
     "iopub.status.busy": "2025-04-25T19:09:52.724086Z",
     "iopub.status.idle": "2025-04-25T19:09:57.840497Z",
     "shell.execute_reply": "2025-04-25T19:09:57.839480Z"
    }
   },
   "outputs": [
    {
     "name": "stdout",
     "output_type": "stream",
     "text": [
      "MongoDB connection failed: mongodb:27017: [Errno 8] nodename nor servname provided, or not known (configured timeouts: socketTimeoutMS: 20000.0ms, connectTimeoutMS: 20000.0ms), Timeout: 5.0s, Topology Description: <TopologyDescription id: 680bde00a3afc0b3857a797b, topology_type: Unknown, servers: [<ServerDescription ('mongodb', 27017) server_type: Unknown, rtt: None, error=AutoReconnect('mongodb:27017: [Errno 8] nodename nor servname provided, or not known (configured timeouts: socketTimeoutMS: 20000.0ms, connectTimeoutMS: 20000.0ms)')>]>\n",
      "Falling back to local example data.\n",
      "Loaded 1 invoices and 1 QA pairs.\n"
     ]
    }
   ],
   "source": [
    "# --- MongoDB Connection or Fallback ---\n",
    "mongo_uri = 'mongodb://mongodb:27017/'  # Change if running locally\n",
    "db_name = 'pdf_rag'\n",
    "\n",
    "try:\n",
    "    client = MongoClient(mongo_uri, serverSelectionTimeoutMS=5000)\n",
    "    db = client[db_name]\n",
    "    client.server_info()\n",
    "    invoices = list(db.invoices.find())\n",
    "    qa_pairs = list(db.qa_pairs.find())\n",
    "    print(f\"Loaded {len(invoices)} invoices and {len(qa_pairs)} QA pairs from MongoDB.\")\n",
    "except Exception as e:\n",
    "    print(f\"MongoDB connection failed: {e}\\nFalling back to local example data.\")\n",
    "    if os.path.exists(\"invoices.json\"):\n",
    "        with open(\"invoices.json\") as f:\n",
    "            invoices = json.load(f)\n",
    "    else:\n",
    "        invoices = [{\"customer_name\": \"Demo Customer\", \"amount\": 100.0, \"date\": \"2024-01-01\"}]\n",
    "    if os.path.exists(\"qa_pairs.json\"):\n",
    "        with open(\"qa_pairs.json\") as f:\n",
    "            qa_pairs = json.load(f)\n",
    "    else:\n",
    "        qa_pairs = [{\"question\": \"What is the amount?\", \"answer\": \"$100\", \"sources\": [\"Demo Source\"]}]\n",
    "\n",
    "# Convert to DataFrame for analysis\n",
    "invoices_df = pd.DataFrame(invoices)\n",
    "qa_pairs_df = pd.DataFrame(qa_pairs)\n",
    "\n",
    "print(f'Loaded {len(invoices_df)} invoices and {len(qa_pairs_df)} QA pairs.')"
   ]
  },
  {
   "cell_type": "markdown",
   "metadata": {},
   "source": [
    "## 2. Data Exploration\n",
    "Preview the data and basic statistics."
   ]
  },
  {
   "cell_type": "code",
   "execution_count": 3,
   "metadata": {
    "execution": {
     "iopub.execute_input": "2025-04-25T19:09:57.877382Z",
     "iopub.status.busy": "2025-04-25T19:09:57.877187Z",
     "iopub.status.idle": "2025-04-25T19:09:57.885208Z",
     "shell.execute_reply": "2025-04-25T19:09:57.884925Z"
    }
   },
   "outputs": [
    {
     "data": {
      "text/html": [
       "<div>\n",
       "<style scoped>\n",
       "    .dataframe tbody tr th:only-of-type {\n",
       "        vertical-align: middle;\n",
       "    }\n",
       "\n",
       "    .dataframe tbody tr th {\n",
       "        vertical-align: top;\n",
       "    }\n",
       "\n",
       "    .dataframe thead th {\n",
       "        text-align: right;\n",
       "    }\n",
       "</style>\n",
       "<table border=\"1\" class=\"dataframe\">\n",
       "  <thead>\n",
       "    <tr style=\"text-align: right;\">\n",
       "      <th></th>\n",
       "      <th>customer_name</th>\n",
       "      <th>amount</th>\n",
       "      <th>date</th>\n",
       "    </tr>\n",
       "  </thead>\n",
       "  <tbody>\n",
       "    <tr>\n",
       "      <th>0</th>\n",
       "      <td>Demo Customer</td>\n",
       "      <td>100.0</td>\n",
       "      <td>2024-01-01</td>\n",
       "    </tr>\n",
       "  </tbody>\n",
       "</table>\n",
       "</div>"
      ],
      "text/plain": [
       "   customer_name  amount        date\n",
       "0  Demo Customer   100.0  2024-01-01"
      ]
     },
     "execution_count": 3,
     "metadata": {},
     "output_type": "execute_result"
    }
   ],
   "source": [
    "# --- Preview Data ---\n",
    "invoices_df.head()"
   ]
  },
  {
   "cell_type": "code",
   "execution_count": 4,
   "metadata": {
    "execution": {
     "iopub.execute_input": "2025-04-25T19:09:57.886568Z",
     "iopub.status.busy": "2025-04-25T19:09:57.886440Z",
     "iopub.status.idle": "2025-04-25T19:09:57.892667Z",
     "shell.execute_reply": "2025-04-25T19:09:57.892404Z"
    }
   },
   "outputs": [
    {
     "data": {
      "text/html": [
       "<div>\n",
       "<style scoped>\n",
       "    .dataframe tbody tr th:only-of-type {\n",
       "        vertical-align: middle;\n",
       "    }\n",
       "\n",
       "    .dataframe tbody tr th {\n",
       "        vertical-align: top;\n",
       "    }\n",
       "\n",
       "    .dataframe thead th {\n",
       "        text-align: right;\n",
       "    }\n",
       "</style>\n",
       "<table border=\"1\" class=\"dataframe\">\n",
       "  <thead>\n",
       "    <tr style=\"text-align: right;\">\n",
       "      <th></th>\n",
       "      <th>customer_name</th>\n",
       "      <th>amount</th>\n",
       "      <th>date</th>\n",
       "    </tr>\n",
       "  </thead>\n",
       "  <tbody>\n",
       "    <tr>\n",
       "      <th>count</th>\n",
       "      <td>1</td>\n",
       "      <td>1.0</td>\n",
       "      <td>1</td>\n",
       "    </tr>\n",
       "    <tr>\n",
       "      <th>unique</th>\n",
       "      <td>1</td>\n",
       "      <td>NaN</td>\n",
       "      <td>1</td>\n",
       "    </tr>\n",
       "    <tr>\n",
       "      <th>top</th>\n",
       "      <td>Demo Customer</td>\n",
       "      <td>NaN</td>\n",
       "      <td>2024-01-01</td>\n",
       "    </tr>\n",
       "    <tr>\n",
       "      <th>freq</th>\n",
       "      <td>1</td>\n",
       "      <td>NaN</td>\n",
       "      <td>1</td>\n",
       "    </tr>\n",
       "    <tr>\n",
       "      <th>mean</th>\n",
       "      <td>NaN</td>\n",
       "      <td>100.0</td>\n",
       "      <td>NaN</td>\n",
       "    </tr>\n",
       "    <tr>\n",
       "      <th>std</th>\n",
       "      <td>NaN</td>\n",
       "      <td>NaN</td>\n",
       "      <td>NaN</td>\n",
       "    </tr>\n",
       "    <tr>\n",
       "      <th>min</th>\n",
       "      <td>NaN</td>\n",
       "      <td>100.0</td>\n",
       "      <td>NaN</td>\n",
       "    </tr>\n",
       "    <tr>\n",
       "      <th>25%</th>\n",
       "      <td>NaN</td>\n",
       "      <td>100.0</td>\n",
       "      <td>NaN</td>\n",
       "    </tr>\n",
       "    <tr>\n",
       "      <th>50%</th>\n",
       "      <td>NaN</td>\n",
       "      <td>100.0</td>\n",
       "      <td>NaN</td>\n",
       "    </tr>\n",
       "    <tr>\n",
       "      <th>75%</th>\n",
       "      <td>NaN</td>\n",
       "      <td>100.0</td>\n",
       "      <td>NaN</td>\n",
       "    </tr>\n",
       "    <tr>\n",
       "      <th>max</th>\n",
       "      <td>NaN</td>\n",
       "      <td>100.0</td>\n",
       "      <td>NaN</td>\n",
       "    </tr>\n",
       "  </tbody>\n",
       "</table>\n",
       "</div>"
      ],
      "text/plain": [
       "        customer_name  amount        date\n",
       "count               1     1.0           1\n",
       "unique              1     NaN           1\n",
       "top     Demo Customer     NaN  2024-01-01\n",
       "freq                1     NaN           1\n",
       "mean              NaN   100.0         NaN\n",
       "std               NaN     NaN         NaN\n",
       "min               NaN   100.0         NaN\n",
       "25%               NaN   100.0         NaN\n",
       "50%               NaN   100.0         NaN\n",
       "75%               NaN   100.0         NaN\n",
       "max               NaN   100.0         NaN"
      ]
     },
     "execution_count": 4,
     "metadata": {},
     "output_type": "execute_result"
    }
   ],
   "source": [
    "# --- Summary Statistics ---\n",
    "invoices_df.describe(include='all')"
   ]
  },
  {
   "cell_type": "markdown",
   "metadata": {},
   "source": [
    "## 3. Analytics\n",
    "Analyze extracted fields (amounts, dates, customer names, etc.)."
   ]
  },
  {
   "cell_type": "code",
   "execution_count": 5,
   "metadata": {
    "execution": {
     "iopub.execute_input": "2025-04-25T19:09:57.894017Z",
     "iopub.status.busy": "2025-04-25T19:09:57.893928Z",
     "iopub.status.idle": "2025-04-25T19:09:58.020725Z",
     "shell.execute_reply": "2025-04-25T19:09:58.020417Z"
    }
   },
   "outputs": [
    {
     "data": {
      "image/png": "[encoded data removed]",
      "text/plain": [
       "<Figure size 1000x600 with 1 Axes>"
      ]
     },
     "metadata": {},
     "output_type": "display_data"
    }
   ],
   "source": [
    "# --- Example: Invoice Amount Distribution ---\n",
    "if 'amount' in invoices_df.columns:\n",
    "    invoices_df['amount'] = invoices_df['amount'].replace('[$,]', '', regex=True).astype(float)\n",
    "    sns.histplot(invoices_df['amount'], bins=20, kde=True)\n",
    "    plt.title('Invoice Amount Distribution')\n",
    "    plt.xlabel('Amount ($)')\n",
    "    plt.ylabel('Count')\n",
    "    plt.show()\n"
   ]
  },
  {
   "cell_type": "markdown",
   "metadata": {},
   "source": [
    "## 4. Time Series or Trends\n",
    "Visualize trends over time (e.g., invoice counts or totals by month)."
   ]
  },
  {
   "cell_type": "code",
   "execution_count": 6,
   "metadata": {
    "execution": {
     "iopub.execute_input": "2025-04-25T19:09:58.022408Z",
     "iopub.status.busy": "2025-04-25T19:09:58.022282Z",
     "iopub.status.idle": "2025-04-25T19:09:58.095887Z",
     "shell.execute_reply": "2025-04-25T19:09:58.095624Z"
    }
   },
   "outputs": [
    {
     "name": "stderr",
     "output_type": "stream",
     "text": [
      "/var/folders/3d/qt049k011xq8vwck8zlbcq7c0000gn/T/ipykernel_36110/3083554176.py:4: FutureWarning: 'M' is deprecated and will be removed in a future version, please use 'ME' instead.\n",
      "  invoices_df.set_index('date').resample('M').size().plot(kind='bar')\n"
     ]
    },
    {
     "data": {
      "image/png": "[encoded data removed]",
      "text/plain": [
       "<Figure size 1000x600 with 1 Axes>"
      ]
     },
     "metadata": {},
     "output_type": "display_data"
    }
   ],
   "source": [
    "# --- Example: Invoices Over Time ---\n",
    "if 'date' in invoices_df.columns:\n",
    "    invoices_df['date'] = pd.to_datetime(invoices_df['date'], errors='coerce')\n",
    "    invoices_df.set_index('date').resample('M').size().plot(kind='bar')\n",
    "    plt.title('Invoices per Month')\n",
    "    plt.xlabel('Month')\n",
    "    plt.ylabel('Number of Invoices')\n",
    "    plt.show()\n"
   ]
  },
  {
   "cell_type": "markdown",
   "metadata": {},
   "source": [
    "## 5. QA Pairs Analytics\n",
    "Analyze and visualize QA pairs if relevant."
   ]
  },
  {
   "cell_type": "code",
   "execution_count": 7,
   "metadata": {
    "execution": {
     "iopub.execute_input": "2025-04-25T19:09:58.097270Z",
     "iopub.status.busy": "2025-04-25T19:09:58.097149Z",
     "iopub.status.idle": "2025-04-25T19:09:58.100378Z",
     "shell.execute_reply": "2025-04-25T19:09:58.100143Z"
    }
   },
   "outputs": [
    {
     "data": {
      "text/html": [
       "<div>\n",
       "<style scoped>\n",
       "    .dataframe tbody tr th:only-of-type {\n",
       "        vertical-align: middle;\n",
       "    }\n",
       "\n",
       "    .dataframe tbody tr th {\n",
       "        vertical-align: top;\n",
       "    }\n",
       "\n",
       "    .dataframe thead th {\n",
       "        text-align: right;\n",
       "    }\n",
       "</style>\n",
       "<table border=\"1\" class=\"dataframe\">\n",
       "  <thead>\n",
       "    <tr style=\"text-align: right;\">\n",
       "      <th></th>\n",
       "      <th>question</th>\n",
       "      <th>answer</th>\n",
       "      <th>sources</th>\n",
       "    </tr>\n",
       "  </thead>\n",
       "  <tbody>\n",
       "    <tr>\n",
       "      <th>0</th>\n",
       "      <td>What is the amount?</td>\n",
       "      <td>$100</td>\n",
       "      <td>[Demo Source]</td>\n",
       "    </tr>\n",
       "  </tbody>\n",
       "</table>\n",
       "</div>"
      ],
      "text/plain": [
       "              question answer        sources\n",
       "0  What is the amount?   $100  [Demo Source]"
      ]
     },
     "execution_count": 7,
     "metadata": {},
     "output_type": "execute_result"
    }
   ],
   "source": [
    "# --- Preview QA Pairs ---\n",
    "qa_pairs_df.head()"
   ]
  },
  {
   "cell_type": "markdown",
   "metadata": {},
   "source": [
    "## 6. Custom Visualizations & Analysis\n",
    "Add more analytics or visualizations as needed."
   ]
  }
 ],
 "metadata": {
  "kernelspec": {
   "display_name": ".venv",
   "language": "python",
   "name": "python3"
  },
  "language_info": {
   "codemirror_mode": {
    "name": "ipython",
    "version": 3
   },
   "file_extension": ".py",
   "mimetype": "text/x-python",
   "name": "python",
   "nbconvert_exporter": "python",
   "pygments_lexer": "ipython3",
   "version": "3.9.18"
  }
 },
 "nbformat": 4,
 "nbformat_minor": 2
}
